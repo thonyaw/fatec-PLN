{
 "cells": [
  {
   "cell_type": "markdown",
   "metadata": {
    "id": "7on7HWBxfenM"
   },
   "source": [
    "# Análise de Sentimentos e Classificação de Textos em PLN"
   ]
  },
  {
   "cell_type": "markdown",
   "metadata": {},
   "source": [
    "## Descrição\n",
    "\n",
    "O objetivo deste notebook é realizar uma análise de sentimentos em textos usando duas abordagens, VADER do NLTK, e Naive Bayes. As técnicas de PLN aplicadas incluem tokenização, análise de polaridade, contagem de palavras e classificação probabilística com implementação manual das funções."
   ]
  },
  {
   "cell_type": "markdown",
   "metadata": {
    "id": "lITs34cFfpvj"
   },
   "source": [
    "## Exemplos do roteiro"
   ]
  },
  {
   "cell_type": "markdown",
   "metadata": {
    "id": "TKzT5YHkhOG6"
   },
   "source": [
    "### Exemplo 1 Análise de sentimentos com a biblioteca NLTK"
   ]
  },
  {
   "cell_type": "markdown",
   "metadata": {
    "id": "0Fyu39vuhVAL"
   },
   "source": [
    "Desenvolvendo de um sistema para classificar automaticamente o sentimento de avaliações de filmes como \"positivo\" ou \"negativo\". Para isso é necessário ter um conjunto de dados com as avaliações rotuladas."
   ]
  },
  {
   "cell_type": "markdown",
   "metadata": {
    "id": "-EWFm36Viaba"
   },
   "source": [
    "#### •\tPrimeira etapa – Importação das bibliotecas e corpus para realizar a analise"
   ]
  },
  {
   "cell_type": "code",
   "execution_count": 8,
   "metadata": {
    "colab": {
     "base_uri": "https://localhost:8080/"
    },
    "executionInfo": {
     "elapsed": 9494,
     "status": "ok",
     "timestamp": 1749856205434,
     "user": {
      "displayName": "Victor Myke Gracioli Rocha",
      "userId": "18280186660482340267"
     },
     "user_tz": 180
    },
    "id": "cP4aIXMXe4hv",
    "outputId": "88db45dd-6bb1-4ca2-87ef-5fb7e8e2ee93"
   },
   "outputs": [
    {
     "name": "stderr",
     "output_type": "stream",
     "text": [
      "[nltk_data] Downloading package vader_lexicon to\n",
      "[nltk_data]     C:\\Users\\antho\\AppData\\Roaming\\nltk_data...\n",
      "[nltk_data]   Package vader_lexicon is already up-to-date!\n",
      "[nltk_data] Downloading package punkt to\n",
      "[nltk_data]     C:\\Users\\antho\\AppData\\Roaming\\nltk_data...\n",
      "[nltk_data]   Package punkt is already up-to-date!\n"
     ]
    },
    {
     "data": {
      "text/plain": [
       "True"
      ]
     },
     "execution_count": 8,
     "metadata": {},
     "output_type": "execute_result"
    }
   ],
   "source": [
    "# Importando as bibliotecas\n",
    "import nltk\n",
    "from nltk.sentiment.vader import SentimentIntensityAnalyzer\n",
    "\n",
    "# Certifique-se de baixar os recursos necessários do NLTK\n",
    "nltk.download('vader_lexicon')\n",
    "nltk.download('punkt')"
   ]
  },
  {
   "cell_type": "markdown",
   "metadata": {
    "id": "qyhc4OCZjJur"
   },
   "source": [
    "#### •\tSegunda etapa – Inicialização do objeto que realiza a analise e o texto a ser analisado"
   ]
  },
  {
   "cell_type": "code",
   "execution_count": 9,
   "metadata": {
    "id": "p-iWAm_HjZjb"
   },
   "outputs": [],
   "source": [
    "# Inicializando o analisador de sentimentos\n",
    "sid = SentimentIntensityAnalyzer()\n",
    "\n",
    "# Definindo texto de exemplo para treinar o modelo\n",
    "textos = [\n",
    "    \"Este filme é incrível! Eu adorei cada minuto.\",\n",
    "    \"Odiei este filme. Foi uma perda de tempo.\",\n",
    "    \"O filme foi ok, nada de especial.\",\n",
    "    \"Estou muito feliz com o produto, funciona perfeitamente!\",\n",
    "    \"Que serviço horrível! Nunca mais compro nessa loja.\"\n",
    "    ]"
   ]
  },
  {
   "cell_type": "markdown",
   "metadata": {
    "id": "zW03sOgnm_iy"
   },
   "source": [
    "#### •  Terceira etapa – Analisando os sentimentos dos textos fornecidos"
   ]
  },
  {
   "cell_type": "code",
   "execution_count": 10,
   "metadata": {
    "colab": {
     "base_uri": "https://localhost:8080/"
    },
    "executionInfo": {
     "elapsed": 6,
     "status": "ok",
     "timestamp": 1749856250098,
     "user": {
      "displayName": "Victor Myke Gracioli Rocha",
      "userId": "18280186660482340267"
     },
     "user_tz": 180
    },
    "id": "bYtl83Y6nF4q",
    "outputId": "e4c2b98d-5049-4ecd-fee7-139462250961"
   },
   "outputs": [
    {
     "name": "stdout",
     "output_type": "stream",
     "text": [
      "Texto: Este filme é incrível! Eu adorei cada minuto.\n",
      "Pontuação: {'neg': 0.0, 'neu': 1.0, 'pos': 0.0, 'compound': 0.0}\n",
      "Sentimento: Neutro\n",
      "\n",
      "\n",
      "Texto: Odiei este filme. Foi uma perda de tempo.\n",
      "Pontuação: {'neg': 0.0, 'neu': 1.0, 'pos': 0.0, 'compound': 0.0}\n",
      "Sentimento: Neutro\n",
      "\n",
      "\n",
      "Texto: O filme foi ok, nada de especial.\n",
      "Pontuação: {'neg': 0.0, 'neu': 0.694, 'pos': 0.306, 'compound': 0.296}\n",
      "Sentimento: Positivo\n",
      "\n",
      "\n",
      "Texto: Estou muito feliz com o produto, funciona perfeitamente!\n",
      "Pontuação: {'neg': 0.0, 'neu': 1.0, 'pos': 0.0, 'compound': 0.0}\n",
      "Sentimento: Neutro\n",
      "\n",
      "\n",
      "Texto: Que serviço horrível! Nunca mais compro nessa loja.\n",
      "Pontuação: {'neg': 0.0, 'neu': 1.0, 'pos': 0.0, 'compound': 0.0}\n",
      "Sentimento: Neutro\n",
      "\n",
      "\n"
     ]
    }
   ],
   "source": [
    "# Analisando os sentimentos dos textos\n",
    "\n",
    "for texto in textos:\n",
    "  print(f\"Texto: {texto}\")\n",
    "  ss = sid.polarity_scores(texto)\n",
    "  print(f\"Pontuação: {ss}\")\n",
    "  if ss['compound'] >= 0.05:\n",
    "    print(\"Sentimento: Positivo\")\n",
    "  elif ss['compound'] <= -0.05:\n",
    "    print(\"Sentimento: Negativo\")\n",
    "  else:\n",
    "    print(\"Sentimento: Neutro\")\n",
    "  print(\"\\n\")"
   ]
  },
  {
   "cell_type": "markdown",
   "metadata": {
    "id": "basYrfcfwOts"
   },
   "source": [
    "### Exemplo 2 Análise de sentimentos de Avaliações de Filmes com Naives Bayes"
   ]
  },
  {
   "cell_type": "markdown",
   "metadata": {
    "id": "yQDNEDa-E_is"
   },
   "source": [
    "#### • Primeira etapa – Criação de funções que calculam a quantidade de palavras, e as probabilidades"
   ]
  },
  {
   "cell_type": "code",
   "execution_count": 11,
   "metadata": {
    "id": "cnixvoMpA21F"
   },
   "outputs": [],
   "source": [
    "import numpy as np\n",
    "\n",
    "def contar_palavras(avaliacoes, sentimentos):\n",
    "  \"\"\"Conta a frequência de cada palavra em avaliações de um dado sentimento\"\"\"\n",
    "  contagem = {}\n",
    "  for avaliacao, sent in avaliacoes:\n",
    "    if sent == sentimentos:\n",
    "      for palavra in avaliacao.lower().split():\n",
    "        if palavra in contagem:\n",
    "          contagem[palavra] += 1\n",
    "        else:\n",
    "          contagem[palavra] = 1\n",
    "  return contagem\n",
    "\n",
    "def calcular_probabilidade_sentimento(avaliacoes, sentimentos):\n",
    "  \"\"\"Calcula a probabilidade de uma sentimento em um conjunto de avaliações\"\"\"\n",
    "  total_avaliacoes = len(avaliacoes)\n",
    "  contagem_sentimento = sum(1 for _, sent in avaliacoes if sent == sentimentos)\n",
    "  return contagem_sentimento / total_avaliacoes\n",
    "\n",
    "def calcular_probabilidade_palavra_dado_sentimento(palavra, contagem_palavras, total_palavras_sentimento, total_palavras_vocabulario, alpha=1):\n",
    "  \"\"\"Calcula a probabilidade de uma palavra aparecer dado um sentimento(com suavização Laplace)\"\"\"\n",
    "  contagem_palavra = contagem_palavras.get(palavra, 0)\n",
    "  return (contagem_palavra + alpha) / (total_palavras_sentimento + alpha * total_palavras_vocabulario)"
   ]
  },
  {
   "cell_type": "markdown",
   "metadata": {
    "id": "nzb_ljsIFifb"
   },
   "source": [
    "#### •\tSegunda etapa – Criação da função que calcula a classificação da palavra pertencer a um sentimento"
   ]
  },
  {
   "cell_type": "code",
   "execution_count": 12,
   "metadata": {
    "executionInfo": {
     "elapsed": 24,
     "status": "ok",
     "timestamp": 1749859151674,
     "user": {
      "displayName": "Victor Myke Gracioli Rocha",
      "userId": "18280186660482340267"
     },
     "user_tz": 180
    },
    "id": "TpC_2hyJF1mU"
   },
   "outputs": [],
   "source": [
    "def classificar_avaliacao(avaliacao, avaliacoes):\n",
    "  \"\"\"Classifica o sentimento de uma nova avaliação usando  Naive Bayes.\"\"\"\n",
    "\n",
    "  sentimentos = [\"Positivo\", \"Negativo\"]\n",
    "  probabilidades_sentimento= {}\n",
    "\n",
    "  # Calcular probabilidades a priori dos sentimentos\n",
    "  probabilidades_sentimento[\"Positivo\"] = calcular_probabilidade_sentimento(avaliacoes, \"Positivo\")\n",
    "  probabilidades_sentimento[\"Negativo\"] = calcular_probabilidade_sentimento(avaliacoes, \"Negativo\")\n",
    "\n",
    "  # Calcular palavras em cada sentimentos\n",
    "  contagem_palavras_positivo = contar_palavras(avaliacoes, \"Positivo\")\n",
    "  contagem_palavras_negativo = contar_palavras(avaliacoes, \"Negativo\")\n",
    "\n",
    "  # Calcular total de palavras em cada sentimentos\n",
    "  total_palavras_positivo = sum(contagem_palavras_positivo.values())\n",
    "  total_palavras_negativo = sum(contagem_palavras_negativo.values())\n",
    "\n",
    "  # Calcular tamanho do vocabulário\n",
    "  vocabulario = set()\n",
    "  for avaliacao, _ in avaliacoes:\n",
    "    for palavra in avaliacao.lower().split():\n",
    "      vocabulario.add(palavra)\n",
    "  total_palavras_vocabulario = len(vocabulario)\n",
    "\n",
    "  # Calcular probabilidades para cada sentimento\n",
    "  for sentimento in sentimentos:\n",
    "    probabilidade_total = probabilidades_sentimento[sentimento]\n",
    "    contagem_palavras_sentimento = contagem_palavras_positivo if sentimento == \"Positivo\" else contagem_palavras_negativo\n",
    "    total_palavras_sentimento = total_palavras_positivo if sentimento == \"Positivo\" else total_palavras_negativo\n",
    "\n",
    "    for palavra in avaliacao.lower().split():\n",
    "      probabilidade_palavra = calcular_probabilidade_palavra_dado_sentimento(\n",
    "          palavra, contagem_palavras_sentimento, total_palavras_sentimento, total_palavras_vocabulario\n",
    "      )\n",
    "      probabilidade_total *= probabilidade_palavra\n",
    "    probabilidades_sentimento[sentimento] = probabilidade_total\n",
    "\n",
    "  # Classificar com base na maior probabilidade\n",
    "  melhor_sentimento = max(probabilidades_sentimento, key=probabilidades_sentimento.get)\n",
    "  return melhor_sentimento"
   ]
  },
  {
   "cell_type": "markdown",
   "metadata": {
    "id": "kwLvNLa4OfIa"
   },
   "source": [
    "#### •\tTerceira Etapa – Fornecimento de um modelo para treinamento"
   ]
  },
  {
   "cell_type": "code",
   "execution_count": 13,
   "metadata": {
    "id": "yoBvhpfIOn2J"
   },
   "outputs": [],
   "source": [
    "# Esta parte você pode copiar e colar\n",
    "\n",
    "avaliacoes = [\n",
    "    (\"Filme incrível! Adorei a atuação.\", \"Positivo\"),\n",
    "    (\"Roteiro fraco, não recomendo.\", \"Negativo\"),\n",
    "    (\"Atuação boa, mas filme longo.\", \"Positivo\"),\n",
    "    (\"Péssimo! Paerdi meu tempo.\", \"Negativo\"),\n",
    "]"
   ]
  },
  {
   "cell_type": "markdown",
   "metadata": {
    "id": "rYFVfkqTQSpB"
   },
   "source": [
    "#### •\tQuarta etapa – Fornecendo um frase para ser avaliada"
   ]
  },
  {
   "cell_type": "code",
   "execution_count": 19,
   "metadata": {
    "colab": {
     "base_uri": "https://localhost:8080/"
    },
    "executionInfo": {
     "elapsed": 17900,
     "status": "ok",
     "timestamp": 1749859172875,
     "user": {
      "displayName": "Victor Myke Gracioli Rocha",
      "userId": "18280186660482340267"
     },
     "user_tz": 180
    },
    "id": "N38-yTqTQe2g",
    "outputId": "7ee6359a-b1e8-440c-d1f4-01f0130b905d"
   },
   "outputs": [
    {
     "name": "stdout",
     "output_type": "stream",
     "text": [
      "A avaliação 'Ok' foi classificada como: Positivo\n"
     ]
    }
   ],
   "source": [
    "# Nova avaliação a ser classificada\n",
    "nova_avaliacao = input(\"O que você achou do filme 101 Dalmatas?\")\n",
    "\n",
    "# Classificar a nova avaliação\n",
    "sentimento = classificar_avaliacao(nova_avaliacao, avaliacoes)\n",
    "print(f\"A avaliação '{nova_avaliacao}' foi classificada como: {sentimento}\")"
   ]
  },
  {
   "cell_type": "markdown",
   "metadata": {
    "id": "5zg-sKG1RcsY"
   },
   "source": [
    "#### •\tQuinta etapa – Treine com um novo modelo de dados"
   ]
  },
  {
   "cell_type": "code",
   "execution_count": 17,
   "metadata": {
    "executionInfo": {
     "elapsed": 6,
     "status": "ok",
     "timestamp": 1749859208502,
     "user": {
      "displayName": "Victor Myke Gracioli Rocha",
      "userId": "18280186660482340267"
     },
     "user_tz": 180
    },
    "id": "gDTAuiDORiUQ"
   },
   "outputs": [],
   "source": [
    "# Esta parte você pode copiar e colar\n",
    "\n",
    "avaliacoes = [\n",
    "    (\"Filme incrível! Adorei a atuação, roteiro e direção.\", \"Positivo\"),\n",
    "    (\"Roteiro fraco, atuação ruim, não recomendo. Perda de tempo.\", \"Negativo\"),\n",
    "    (\"Atuação boa, mas filme um pouco longo e arrastado.\", \"Positivo\"),\n",
    "    (\"Péssimo! Perdi meu tempo, dinheiro e paciência. Horrível.\", \"Negativo\"),\n",
    "    (\"Amei! Elenco maravilhoso, fotografia impecável. Recomendo muito!\", \"Positivo\"),\n",
    "    (\"Chato, previsível e sem graça. Saí no meio do filme.\", \"Negativo\"),\n",
    "    (\"Uma  obra-prima! Roteiro inteligente, atuações memoráveis.\", \"Positivo\"),\n",
    "    (\"Cansativo, atuações forçadas, final decepcionante.\", \"Negativo\"),\n",
    "    (\"Divertido e emocionante! Ótimo para assistir com a família.\", \"Positivo\"),\n",
    "    (\"Clichê, sem originalidade, diálogos fracos. Não vale a pena.\", \"Negativo\"),\n",
    "    (\"Surpreendente e envolvente! Me prendeu do início ao fim.\", \"Positivo\"),\n",
    "    (\"Confuso, mal dirigido, edição amadora. Um desastre.\", \"Negativo\"),\n",
    "    (\"Atuação excelente, história cativante, trilha sonora perfeita.\", \"Positivo\"),\n",
    "    (\"Atuações medianas, história arrastada, trilha sonora irritante.\", \"Negativo\"),\n",
    "    (\"Roteiro bem construído, diálogos afiados, direção impecável.\", \"Positivo\"),\n",
    "    (\"Roteiro fraco, diálogos bobos, direção perdida.\", \"Negativo\"),\n",
    "    (\"Uma experiência cinematográfica única! Recomendo a todos os amantes do cinema.\", \"Positivo\"),\n",
    "    (\"Um filme esquecível, sem emoção e sem impacto.\", \"Negativo\"),\n",
    "    (\"Comovente e inspirador! Me fez refletir sobre a vida.\", \"Positivo\"),\n",
    "    (\"Decepcionante e frustrante! Não recomendo nem para passar o tempo.\", \"Negativo\"),\n",
    "    (\"Ótimo, gostei muito\", \"Positivo\")\n",
    "]"
   ]
  }
 ],
 "metadata": {
  "colab": {
   "authorship_tag": "ABX9TyOio828poGLvthY8evOhdEx",
   "collapsed_sections": [
    "-EWFm36Viaba",
    "qyhc4OCZjJur"
   ],
   "provenance": []
  },
  "kernelspec": {
   "display_name": "Python 3",
   "name": "python3"
  },
  "language_info": {
   "codemirror_mode": {
    "name": "ipython",
    "version": 3
   },
   "file_extension": ".py",
   "mimetype": "text/x-python",
   "name": "python",
   "nbconvert_exporter": "python",
   "pygments_lexer": "ipython3",
   "version": "3.12.6"
  }
 },
 "nbformat": 4,
 "nbformat_minor": 0
}
