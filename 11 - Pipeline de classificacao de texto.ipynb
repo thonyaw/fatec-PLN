{
 "cells": [
  {
   "cell_type": "markdown",
   "metadata": {
    "id": "2aT_8qwP8P2P"
   },
   "source": [
    "# Pipeline de classificação de texto"
   ]
  },
  {
   "cell_type": "markdown",
   "metadata": {},
   "source": [
    "## Descrição\n",
    "Construindo um pipeline completo de classificação de textos, desde a criação da base de dados até a classificação final, utilizando técnicas de pré-processamento como limpeza textual, tokenização, remoção de stopwords e stemming, além de vetorização com CountVectorizer e o uso de modelos do scikit-learn com objetivo de treinar e avaliar modelos de classificação de sentimentos."
   ]
  },
  {
   "cell_type": "markdown",
   "metadata": {
    "id": "TUuAxn4o8TjN"
   },
   "source": [
    "## Etapa 0 – Criando a base de dados a ser utilizada"
   ]
  },
  {
   "cell_type": "code",
   "execution_count": 3,
   "metadata": {
    "colab": {
     "base_uri": "https://localhost:8080/"
    },
    "executionInfo": {
     "elapsed": 1216,
     "status": "ok",
     "timestamp": 1749857482070,
     "user": {
      "displayName": "Victor Myke Gracioli Rocha",
      "userId": "18280186660482340267"
     },
     "user_tz": 180
    },
    "id": "ypGTQKBvyys7",
    "outputId": "526f5738-1d68-4e5d-8b45-3b543236feca"
   },
   "outputs": [
    {
     "name": "stdout",
     "output_type": "stream",
     "text": [
      "Base de dados criada e salva em 'dados_rotulados.csv'\n"
     ]
    }
   ],
   "source": [
    "# Criando a base de dados a ser utilizada\n",
    "import pandas as pd\n",
    "\n",
    "# Criar um dicionário com dados de exemplo\n",
    "data = {\n",
    "    'texto': [\n",
    "        \"Este é um ótimo filme!\",\n",
    "        \"O produto é muito ruim.\",\n",
    "        \"Adorei o atendimento ao cliente.\",\n",
    "        \"A entrega atrasou e o produto veio com defeito.\",\n",
    "        \"Recomendo este livro a todos!\",\n",
    "        \"Não gostei da experiência.\",\n",
    "        \"O serviço foi excelente.\",\n",
    "        \"Péssima qualidade, não cemprem!\",\n",
    "        \"Amei o presente, muito obrigado!\",\n",
    "        \"Que decepção, perdi meu dinheiro.\"\n",
    "    ],\n",
    "    'categoria': [\n",
    "        \"positivo\",\n",
    "        \"negativo\",\n",
    "        \"positivo\",\n",
    "        \"negativo\",\n",
    "        \"positivo\",\n",
    "        \"negativo\",\n",
    "        \"positivo\",\n",
    "        \"negativo\",\n",
    "        \"positivo\",\n",
    "        \"negativo\"\n",
    "    ]\n",
    "}\n",
    "\n",
    "# Criar um DataFrame a partie do dicionário\n",
    "df = pd.DataFrame(data)\n",
    "\n",
    "# Salvar o DataFrame em um arquivo CSV\n",
    "df.to_csv('dados_rotulados.csv', index=False, encoding='utf-8')\n",
    "\n",
    "print(\"Base de dados criada e salva em 'dados_rotulados.csv'\")"
   ]
  },
  {
   "cell_type": "markdown",
   "metadata": {
    "id": "qPZpBAmB_Nx2"
   },
   "source": [
    "## Etapa 1 – Preparação dos dados"
   ]
  },
  {
   "cell_type": "code",
   "execution_count": null,
   "metadata": {
    "colab": {
     "base_uri": "https://localhost:8080/"
    },
    "executionInfo": {
     "elapsed": 1017,
     "status": "ok",
     "timestamp": 1749857695755,
     "user": {
      "displayName": "Victor Myke Gracioli Rocha",
      "userId": "18280186660482340267"
     },
     "user_tz": 180
    },
    "id": "yma6sahE_jm8",
    "outputId": "1128a519-cfde-4fb0-9569-86abcb98cc8e"
   },
   "outputs": [
    {
     "name": "stderr",
     "output_type": "stream",
     "text": [
      "\n",
      "[notice] A new release of pip is available: 25.0.1 -> 25.1.1\n",
      "[notice] To update, run: python.exe -m pip install --upgrade pip\n"
     ]
    },
    {
     "name": "stdout",
     "output_type": "stream",
     "text": [
      "Collecting spacy\n",
      "  Downloading spacy-3.8.7-cp312-cp312-win_amd64.whl.metadata (28 kB)\n",
      "Collecting spacy-legacy<3.1.0,>=3.0.11 (from spacy)\n",
      "  Downloading spacy_legacy-3.0.12-py2.py3-none-any.whl.metadata (2.8 kB)\n",
      "Collecting spacy-loggers<2.0.0,>=1.0.0 (from spacy)\n",
      "  Downloading spacy_loggers-1.0.5-py3-none-any.whl.metadata (23 kB)\n",
      "Collecting murmurhash<1.1.0,>=0.28.0 (from spacy)\n",
      "  Downloading murmurhash-1.0.13-cp312-cp312-win_amd64.whl.metadata (2.2 kB)\n",
      "Collecting cymem<2.1.0,>=2.0.2 (from spacy)\n",
      "  Downloading cymem-2.0.11-cp312-cp312-win_amd64.whl.metadata (8.8 kB)\n",
      "Collecting preshed<3.1.0,>=3.0.2 (from spacy)\n",
      "  Downloading preshed-3.0.10-cp312-cp312-win_amd64.whl.metadata (2.5 kB)\n",
      "Collecting thinc<8.4.0,>=8.3.4 (from spacy)\n",
      "  Downloading thinc-8.3.6-cp312-cp312-win_amd64.whl.metadata (15 kB)\n",
      "Collecting wasabi<1.2.0,>=0.9.1 (from spacy)\n",
      "  Downloading wasabi-1.1.3-py3-none-any.whl.metadata (28 kB)\n",
      "Collecting srsly<3.0.0,>=2.4.3 (from spacy)\n",
      "  Downloading srsly-2.5.1-cp312-cp312-win_amd64.whl.metadata (20 kB)\n",
      "Collecting catalogue<2.1.0,>=2.0.6 (from spacy)\n",
      "  Downloading catalogue-2.0.10-py3-none-any.whl.metadata (14 kB)\n",
      "Collecting weasel<0.5.0,>=0.1.0 (from spacy)\n",
      "  Downloading weasel-0.4.1-py3-none-any.whl.metadata (4.6 kB)\n",
      "Collecting typer<1.0.0,>=0.3.0 (from spacy)\n",
      "  Downloading typer-0.16.0-py3-none-any.whl.metadata (15 kB)\n",
      "Requirement already satisfied: tqdm<5.0.0,>=4.38.0 in d:\\users\\antho\\appdata\\local\\programs\\python\\python312\\lib\\site-packages (from spacy) (4.67.1)\n",
      "Requirement already satisfied: numpy>=1.19.0 in d:\\users\\antho\\appdata\\local\\programs\\python\\python312\\lib\\site-packages (from spacy) (2.2.3)\n",
      "Collecting requests<3.0.0,>=2.13.0 (from spacy)\n",
      "  Downloading requests-2.32.4-py3-none-any.whl.metadata (4.9 kB)\n",
      "Collecting pydantic!=1.8,!=1.8.1,<3.0.0,>=1.7.4 (from spacy)\n",
      "  Downloading pydantic-2.11.6-py3-none-any.whl.metadata (67 kB)\n",
      "Collecting jinja2 (from spacy)\n",
      "  Downloading jinja2-3.1.6-py3-none-any.whl.metadata (2.9 kB)\n",
      "Collecting setuptools (from spacy)\n",
      "  Downloading setuptools-80.9.0-py3-none-any.whl.metadata (6.6 kB)\n",
      "Requirement already satisfied: packaging>=20.0 in c:\\users\\antho\\appdata\\roaming\\python\\python312\\site-packages (from spacy) (25.0)\n",
      "Collecting langcodes<4.0.0,>=3.2.0 (from spacy)\n",
      "  Downloading langcodes-3.5.0-py3-none-any.whl.metadata (29 kB)\n",
      "Collecting language-data>=1.2 (from langcodes<4.0.0,>=3.2.0->spacy)\n",
      "  Downloading language_data-1.3.0-py3-none-any.whl.metadata (4.3 kB)\n",
      "Collecting annotated-types>=0.6.0 (from pydantic!=1.8,!=1.8.1,<3.0.0,>=1.7.4->spacy)\n",
      "  Downloading annotated_types-0.7.0-py3-none-any.whl.metadata (15 kB)\n",
      "Collecting pydantic-core==2.33.2 (from pydantic!=1.8,!=1.8.1,<3.0.0,>=1.7.4->spacy)\n",
      "  Downloading pydantic_core-2.33.2-cp312-cp312-win_amd64.whl.metadata (6.9 kB)\n",
      "Collecting typing-extensions>=4.12.2 (from pydantic!=1.8,!=1.8.1,<3.0.0,>=1.7.4->spacy)\n",
      "  Downloading typing_extensions-4.14.0-py3-none-any.whl.metadata (3.0 kB)\n",
      "Collecting typing-inspection>=0.4.0 (from pydantic!=1.8,!=1.8.1,<3.0.0,>=1.7.4->spacy)\n",
      "  Downloading typing_inspection-0.4.1-py3-none-any.whl.metadata (2.6 kB)\n",
      "Requirement already satisfied: charset_normalizer<4,>=2 in d:\\users\\antho\\appdata\\local\\programs\\python\\python312\\lib\\site-packages (from requests<3.0.0,>=2.13.0->spacy) (3.4.1)\n",
      "Requirement already satisfied: idna<4,>=2.5 in d:\\users\\antho\\appdata\\local\\programs\\python\\python312\\lib\\site-packages (from requests<3.0.0,>=2.13.0->spacy) (3.10)\n",
      "Requirement already satisfied: urllib3<3,>=1.21.1 in d:\\users\\antho\\appdata\\local\\programs\\python\\python312\\lib\\site-packages (from requests<3.0.0,>=2.13.0->spacy) (2.3.0)\n",
      "Requirement already satisfied: certifi>=2017.4.17 in d:\\users\\antho\\appdata\\local\\programs\\python\\python312\\lib\\site-packages (from requests<3.0.0,>=2.13.0->spacy) (2025.1.31)\n",
      "Collecting blis<1.4.0,>=1.3.0 (from thinc<8.4.0,>=8.3.4->spacy)\n",
      "  Downloading blis-1.3.0-cp312-cp312-win_amd64.whl.metadata (7.6 kB)\n",
      "Collecting confection<1.0.0,>=0.0.1 (from thinc<8.4.0,>=8.3.4->spacy)\n",
      "  Downloading confection-0.1.5-py3-none-any.whl.metadata (19 kB)\n",
      "Requirement already satisfied: colorama in c:\\users\\antho\\appdata\\roaming\\python\\python312\\site-packages (from tqdm<5.0.0,>=4.38.0->spacy) (0.4.6)\n",
      "Requirement already satisfied: click>=8.0.0 in d:\\users\\antho\\appdata\\local\\programs\\python\\python312\\lib\\site-packages (from typer<1.0.0,>=0.3.0->spacy) (8.2.1)\n",
      "Collecting shellingham>=1.3.0 (from typer<1.0.0,>=0.3.0->spacy)\n",
      "  Downloading shellingham-1.5.4-py2.py3-none-any.whl.metadata (3.5 kB)\n",
      "Collecting rich>=10.11.0 (from typer<1.0.0,>=0.3.0->spacy)\n",
      "  Downloading rich-14.0.0-py3-none-any.whl.metadata (18 kB)\n",
      "Collecting cloudpathlib<1.0.0,>=0.7.0 (from weasel<0.5.0,>=0.1.0->spacy)\n",
      "  Downloading cloudpathlib-0.21.1-py3-none-any.whl.metadata (14 kB)\n",
      "Collecting smart-open<8.0.0,>=5.2.1 (from weasel<0.5.0,>=0.1.0->spacy)\n",
      "  Downloading smart_open-7.1.0-py3-none-any.whl.metadata (24 kB)\n",
      "Collecting MarkupSafe>=2.0 (from jinja2->spacy)\n",
      "  Downloading MarkupSafe-3.0.2-cp312-cp312-win_amd64.whl.metadata (4.1 kB)\n",
      "Collecting marisa-trie>=1.1.0 (from language-data>=1.2->langcodes<4.0.0,>=3.2.0->spacy)\n",
      "  Downloading marisa_trie-1.2.1-cp312-cp312-win_amd64.whl.metadata (9.3 kB)\n",
      "Collecting markdown-it-py>=2.2.0 (from rich>=10.11.0->typer<1.0.0,>=0.3.0->spacy)\n",
      "  Downloading markdown_it_py-3.0.0-py3-none-any.whl.metadata (6.9 kB)\n",
      "Requirement already satisfied: pygments<3.0.0,>=2.13.0 in c:\\users\\antho\\appdata\\roaming\\python\\python312\\site-packages (from rich>=10.11.0->typer<1.0.0,>=0.3.0->spacy) (2.19.1)\n",
      "Collecting wrapt (from smart-open<8.0.0,>=5.2.1->weasel<0.5.0,>=0.1.0->spacy)\n",
      "  Downloading wrapt-1.17.2-cp312-cp312-win_amd64.whl.metadata (6.5 kB)\n",
      "Collecting mdurl~=0.1 (from markdown-it-py>=2.2.0->rich>=10.11.0->typer<1.0.0,>=0.3.0->spacy)\n",
      "  Downloading mdurl-0.1.2-py3-none-any.whl.metadata (1.6 kB)\n",
      "Downloading spacy-3.8.7-cp312-cp312-win_amd64.whl (13.9 MB)\n",
      "   ---------------------------------------- 0.0/13.9 MB ? eta -:--:--\n",
      "   --------------------------------- ------ 11.5/13.9 MB 55.5 MB/s eta 0:00:01\n",
      "   ---------------------------------------- 13.9/13.9 MB 54.6 MB/s eta 0:00:00\n",
      "Downloading catalogue-2.0.10-py3-none-any.whl (17 kB)\n",
      "Downloading cymem-2.0.11-cp312-cp312-win_amd64.whl (39 kB)\n",
      "Downloading langcodes-3.5.0-py3-none-any.whl (182 kB)\n",
      "Downloading murmurhash-1.0.13-cp312-cp312-win_amd64.whl (24 kB)\n",
      "Downloading preshed-3.0.10-cp312-cp312-win_amd64.whl (116 kB)\n",
      "Downloading pydantic-2.11.6-py3-none-any.whl (444 kB)\n",
      "Downloading pydantic_core-2.33.2-cp312-cp312-win_amd64.whl (2.0 MB)\n",
      "   ---------------------------------------- 0.0/2.0 MB ? eta -:--:--\n",
      "   ---------------------------------------- 2.0/2.0 MB 105.9 MB/s eta 0:00:00\n",
      "Downloading requests-2.32.4-py3-none-any.whl (64 kB)\n",
      "Downloading spacy_legacy-3.0.12-py2.py3-none-any.whl (29 kB)\n",
      "Downloading spacy_loggers-1.0.5-py3-none-any.whl (22 kB)\n",
      "Downloading srsly-2.5.1-cp312-cp312-win_amd64.whl (632 kB)\n",
      "   ---------------------------------------- 0.0/632.6 kB ? eta -:--:--\n",
      "   ---------------------------------------- 632.6/632.6 kB ? eta 0:00:00\n",
      "Downloading thinc-8.3.6-cp312-cp312-win_amd64.whl (1.7 MB)\n",
      "   ---------------------------------------- 0.0/1.7 MB ? eta -:--:--\n",
      "   ---------------------------------------- 1.7/1.7 MB 46.5 MB/s eta 0:00:00\n",
      "Downloading typer-0.16.0-py3-none-any.whl (46 kB)\n",
      "Downloading wasabi-1.1.3-py3-none-any.whl (27 kB)\n",
      "Downloading weasel-0.4.1-py3-none-any.whl (50 kB)\n",
      "Downloading jinja2-3.1.6-py3-none-any.whl (134 kB)\n",
      "Downloading setuptools-80.9.0-py3-none-any.whl (1.2 MB)\n",
      "   ---------------------------------------- 0.0/1.2 MB ? eta -:--:--\n",
      "   ---------------------------------------- 1.2/1.2 MB 62.6 MB/s eta 0:00:00\n",
      "Downloading annotated_types-0.7.0-py3-none-any.whl (13 kB)\n",
      "Downloading blis-1.3.0-cp312-cp312-win_amd64.whl (6.3 MB)\n",
      "   ---------------------------------------- 0.0/6.3 MB ? eta -:--:--\n",
      "   ---------------------------------------- 6.3/6.3 MB 96.7 MB/s eta 0:00:00\n",
      "Downloading cloudpathlib-0.21.1-py3-none-any.whl (52 kB)\n",
      "Downloading confection-0.1.5-py3-none-any.whl (35 kB)\n",
      "Downloading language_data-1.3.0-py3-none-any.whl (5.4 MB)\n",
      "   ---------------------------------------- 0.0/5.4 MB ? eta -:--:--\n",
      "   ---------------------------------------- 5.4/5.4 MB 109.0 MB/s eta 0:00:00\n",
      "Downloading MarkupSafe-3.0.2-cp312-cp312-win_amd64.whl (15 kB)\n",
      "Downloading rich-14.0.0-py3-none-any.whl (243 kB)\n",
      "Downloading shellingham-1.5.4-py2.py3-none-any.whl (9.8 kB)\n",
      "Downloading smart_open-7.1.0-py3-none-any.whl (61 kB)\n",
      "Downloading typing_extensions-4.14.0-py3-none-any.whl (43 kB)\n",
      "Downloading typing_inspection-0.4.1-py3-none-any.whl (14 kB)\n",
      "Downloading marisa_trie-1.2.1-cp312-cp312-win_amd64.whl (150 kB)\n",
      "Downloading markdown_it_py-3.0.0-py3-none-any.whl (87 kB)\n",
      "Downloading wrapt-1.17.2-cp312-cp312-win_amd64.whl (38 kB)\n",
      "Downloading mdurl-0.1.2-py3-none-any.whl (10.0 kB)\n",
      "Installing collected packages: cymem, wrapt, wasabi, typing-extensions, spacy-loggers, spacy-legacy, shellingham, setuptools, requests, murmurhash, mdurl, MarkupSafe, cloudpathlib, catalogue, blis, annotated-types, typing-inspection, srsly, smart-open, pydantic-core, preshed, markdown-it-py, marisa-trie, jinja2, rich, pydantic, language-data, typer, langcodes, confection, weasel, thinc, spacy\n",
      "Successfully installed MarkupSafe-3.0.2 annotated-types-0.7.0 blis-1.3.0 catalogue-2.0.10 cloudpathlib-0.21.1 confection-0.1.5 cymem-2.0.11 jinja2-3.1.6 langcodes-3.5.0 language-data-1.3.0 marisa-trie-1.2.1 markdown-it-py-3.0.0 mdurl-0.1.2 murmurhash-1.0.13 preshed-3.0.10 pydantic-2.11.6 pydantic-core-2.33.2 requests-2.32.4 rich-14.0.0 setuptools-80.9.0 shellingham-1.5.4 smart-open-7.1.0 spacy-3.8.7 spacy-legacy-3.0.12 spacy-loggers-1.0.5 srsly-2.5.1 thinc-8.3.6 typer-0.16.0 typing-extensions-4.14.0 typing-inspection-0.4.1 wasabi-1.1.3 weasel-0.4.1 wrapt-1.17.2\n"
     ]
    },
    {
     "name": "stderr",
     "output_type": "stream",
     "text": [
      "[nltk_data] Downloading package stopwords to\n",
      "[nltk_data]     C:\\Users\\antho\\AppData\\Roaming\\nltk_data...\n",
      "[nltk_data]   Unzipping corpora\\stopwords.zip.\n",
      "[nltk_data] Downloading package punkt_tab to\n",
      "[nltk_data]     C:\\Users\\antho\\AppData\\Roaming\\nltk_data...\n",
      "[nltk_data]   Unzipping tokenizers\\punkt_tab.zip.\n"
     ]
    },
    {
     "data": {
      "text/plain": [
       "True"
      ]
     },
     "execution_count": 9,
     "metadata": {},
     "output_type": "execute_result"
    }
   ],
   "source": [
    "#! python -m pip install spacy\n",
    "# Passo 1: Importar as bibliotécas necessárias\n",
    "import nltk\n",
    "import spacy\n",
    "import sklearn\n",
    "import pandas as pd\n",
    "import matplotlib.pyplot as plt\n",
    "import string\n",
    "from nltk.corpus import stopwords\n",
    "from nltk.tokenize import word_tokenize\n",
    "from nltk.stem import SnowballStemmer\n",
    "from sklearn. model_selection import train_test_split\n",
    "\n",
    "nltk.download('stopwords')\n",
    "nltk.download('punkt_tab')"
   ]
  },
  {
   "cell_type": "code",
   "execution_count": 10,
   "metadata": {
    "colab": {
     "base_uri": "https://localhost:8080/",
     "height": 1000
    },
    "executionInfo": {
     "elapsed": 475,
     "status": "ok",
     "timestamp": 1749857771236,
     "user": {
      "displayName": "Victor Myke Gracioli Rocha",
      "userId": "18280186660482340267"
     },
     "user_tz": 180
    },
    "id": "jhWR12ZjCZsz",
    "outputId": "06d070f8-858f-4778-b9bd-5cdc495196f8"
   },
   "outputs": [
    {
     "name": "stdout",
     "output_type": "stream",
     "text": [
      "Informações do conjunto de dados:\n",
      "<class 'pandas.core.frame.DataFrame'>\n",
      "RangeIndex: 10 entries, 0 to 9\n",
      "Data columns (total 2 columns):\n",
      " #   Column     Non-Null Count  Dtype \n",
      "---  ------     --------------  ----- \n",
      " 0   texto      10 non-null     object\n",
      " 1   categoria  10 non-null     object\n",
      "dtypes: object(2)\n",
      "memory usage: 292.0+ bytes\n",
      "None\n",
      "\n",
      "Primeiras 5 linhas do conjunto de dados:\n",
      "                                             texto categoria\n",
      "0                           Este é um ótimo filme!  positivo\n",
      "1                          O produto é muito ruim.  negativo\n",
      "2                 Adorei o atendimento ao cliente.  positivo\n",
      "3  A entrega atrasou e o produto veio com defeito.  negativo\n",
      "4                    Recomendo este livro a todos!  positivo\n"
     ]
    },
    {
     "data": {
      "image/png": "[encoded data removed]",
      "text/plain": [
       "<Figure size 1000x500 with 1 Axes>"
      ]
     },
     "metadata": {},
     "output_type": "display_data"
    },
    {
     "data": {
      "image/png": "[encoded data removed]",
      "text/plain": [
       "<Figure size 1000x500 with 1 Axes>"
      ]
     },
     "metadata": {},
     "output_type": "display_data"
    }
   ],
   "source": [
    "# Passo 2: Carregar o conjunto de dados de texto rotulado\n",
    "data = pd.read_csv('dados_rotulados.csv', encoding='utf-8')\n",
    "\n",
    "# Passo 3: Explorar e visualizar os dados\n",
    "print(\"Informações do conjunto de dados:\")\n",
    "print(data.info())\n",
    "\n",
    "print(\"\\nPrimeiras 5 linhas do conjunto de dados:\")\n",
    "print(data.head())\n",
    "\n",
    "# Distribuição das categorias\n",
    "plt.figure(figsize=(10, 5))\n",
    "data['categoria'].value_counts().plot(kind='bar')\n",
    "plt.title('Distribuição das categorias')\n",
    "plt.xlabel('Categoria')\n",
    "plt.ylabel('Contagem')\n",
    "plt.show()\n",
    "\n",
    "# Tamanho dos textos\n",
    "tamanhos_textos = data['texto'].apply(len)\n",
    "plt.figure(figsize=(10, 5))\n",
    "plt.hist(tamanhos_textos, bins=50)\n",
    "plt.title('Tamanho dos Textos')\n",
    "plt.xlabel('Tamanho do Texto')\n",
    "plt.ylabel('Frequência')\n",
    "plt.show()"
   ]
  },
  {
   "cell_type": "code",
   "execution_count": 11,
   "metadata": {
    "colab": {
     "base_uri": "https://localhost:8080/"
    },
    "executionInfo": {
     "elapsed": 13,
     "status": "ok",
     "timestamp": 1749857880007,
     "user": {
      "displayName": "Victor Myke Gracioli Rocha",
      "userId": "18280186660482340267"
     },
     "user_tz": 180
    },
    "id": "VqyCQhFuCbsy",
    "outputId": "c5d44e96-ac0b-4264-9f15-8bb6c72ef140"
   },
   "outputs": [
    {
     "name": "stdout",
     "output_type": "stream",
     "text": [
      "\n",
      "Tamanho do conjunto de treinamento: 8\n",
      "Tamanho do conjunto de teste: 2\n"
     ]
    }
   ],
   "source": [
    "# Passo 4: Realizar o Pré-processamento do texto\n",
    "def preprocessar_texto(texto):\n",
    "    # Passo 4.1: Limpar o texto\n",
    "    texto = texto.translate(str.maketrans('', '', string.punctuation))\n",
    "    texto = ''.join([c for c in texto if not c.isdigit()])\n",
    "\n",
    "    # Passo 4.2: Tokenizar o texto\n",
    "    tokens = word_tokenize(texto.lower())\n",
    "\n",
    "    # Passo 4.3: Remover stopwwords\n",
    "    stop_words = set(stopwords.words('portuguese'))\n",
    "    tokens = [palavra for palavra in tokens if palavra not in stop_words]\n",
    "\n",
    "    # Passo 4.4: Aplicar stemming ou lematização\n",
    "    stemmer = SnowballStemmer('portuguese')\n",
    "    tokens = [stemmer.stem(palavra) for palavra in tokens]\n",
    "\n",
    "    return ' '.join(tokens)\n",
    "\n",
    "# Aplica a função de pré processamento ã coluna 'texto' do DataFrame\n",
    "data['texto_processado'] = data['texto'].apply(preprocessar_texto)\n",
    "\n",
    "# Passo 5: Dividir os dados em conjuntos de treinamento e teste\n",
    "# Divide o conjunto de dados em conjuntos de treinamento e teste.\n",
    "# O conjunto de treinamento será usado para treinar o modelo de classificação.\n",
    "#O conjunto de teste será usado para avaliar o desempenho de modelo.\n",
    "X_train, X_test, y_train, y_test = train_test_split(\n",
    "    data['texto_processado'], data['categoria'], test_size=0.2, random_state=42)\n",
    "\n",
    "# Exibe o tamanho dos conjuntos de treinamento e teste.\n",
    "print(\"\\nTamanho do conjunto de treinamento:\", len(X_train))\n",
    "print(\"Tamanho do conjunto de teste:\", len(X_test))"
   ]
  },
  {
   "cell_type": "markdown",
   "metadata": {
    "id": "iZVebdliFK6R"
   },
   "source": [
    "## Etapa 2 – Extração de características"
   ]
  },
  {
   "cell_type": "code",
   "execution_count": 12,
   "metadata": {
    "colab": {
     "base_uri": "https://localhost:8080/"
    },
    "executionInfo": {
     "elapsed": 182,
     "status": "ok",
     "timestamp": 1749858003070,
     "user": {
      "displayName": "Victor Myke Gracioli Rocha",
      "userId": "18280186660482340267"
     },
     "user_tz": 180
    },
    "id": "kTJjlzd5FNmB",
    "outputId": "84d8b9fe-6eb8-43ed-9198-23c0d296376b"
   },
   "outputs": [
    {
     "name": "stdout",
     "output_type": "stream",
     "text": [
      "\n",
      "Número de características extraídas: 23\n",
      "\n",
      "Acurácia do modelo: 0.5\n",
      "\n",
      "Relatório de classificação:\n",
      "               precision    recall  f1-score   support\n",
      "\n",
      "    negativo       0.50      1.00      0.67         1\n",
      "    positivo       0.00      0.00      0.00         1\n",
      "\n",
      "    accuracy                           0.50         2\n",
      "   macro avg       0.25      0.50      0.33         2\n",
      "weighted avg       0.25      0.50      0.33         2\n",
      "\n",
      "\n",
      "Novo texto: Este filme é incrível, recomendo a todos!\n",
      "Categoria prevista: positivo\n",
      "Probabilidades por categoria: {np.str_('negativo'): np.float64(0.29256806327043555), np.str_('positivo'): np.float64(0.7074319367295648)}\n"
     ]
    },
    {
     "name": "stderr",
     "output_type": "stream",
     "text": [
      "d:\\Users\\antho\\AppData\\Local\\Programs\\Python\\Python312\\Lib\\site-packages\\sklearn\\metrics\\_classification.py:1565: UndefinedMetricWarning: Precision is ill-defined and being set to 0.0 in labels with no predicted samples. Use `zero_division` parameter to control this behavior.\n",
      "  _warn_prf(average, modifier, f\"{metric.capitalize()} is\", len(result))\n",
      "d:\\Users\\antho\\AppData\\Local\\Programs\\Python\\Python312\\Lib\\site-packages\\sklearn\\metrics\\_classification.py:1565: UndefinedMetricWarning: Precision is ill-defined and being set to 0.0 in labels with no predicted samples. Use `zero_division` parameter to control this behavior.\n",
      "  _warn_prf(average, modifier, f\"{metric.capitalize()} is\", len(result))\n",
      "d:\\Users\\antho\\AppData\\Local\\Programs\\Python\\Python312\\Lib\\site-packages\\sklearn\\metrics\\_classification.py:1565: UndefinedMetricWarning: Precision is ill-defined and being set to 0.0 in labels with no predicted samples. Use `zero_division` parameter to control this behavior.\n",
      "  _warn_prf(average, modifier, f\"{metric.capitalize()} is\", len(result))\n"
     ]
    }
   ],
   "source": [
    "# Importação das bibliotecas a serem utilizadas\n",
    "from sklearn.feature_extraction.text import TfidfVectorizer\n",
    "from sklearn.naive_bayes import MultinomialNB\n",
    "from sklearn.metrics import accuracy_score, classification_report\n",
    "\n",
    "# Etapa2: Extração de características\n",
    "# Converte os textos pré-processados em representações numéricas usando TF-IDF.\n",
    "#TF-IDF é uma técnica que pondera a importância de cada palavra em um documento\n",
    "# em relação ã sua fre todo o conjunto de documentos.\n",
    "vectorizer = TfidfVectorizer()\n",
    "X_train_tfidf = vectorizer.fit_transform(X_train)\n",
    "X_test_tfidf = vectorizer.transform(X_test)\n",
    "\n",
    "# Exibe o número de características extraídas.\n",
    "print(\"\\nNúmero de características extraídas:\", X_train_tfidf.shape[1])\n",
    "\n",
    "\n",
    "# Etapa 3: Treinamento de modelo\n",
    "# Treina um modelo de classificação Naive Bayes Multinomial usando os dados de treinamento.\n",
    "# Naive Bayes é um algoritmo simples e eficaz para classificação de texto.\n",
    "modelo = MultinomialNB()\n",
    "modelo.fit(X_train_tfidf, y_train)\n",
    "\n",
    "# Passo 4: Avaliação do modelo\n",
    "# Avalia o desempenho do modelo usando o conjunto de teste.\n",
    "# Calcula a acurácia e exibe um relatório de classificação detelhado.\n",
    "y_pred = modelo.predict(X_test_tfidf)\n",
    "acuracia = accuracy_score(y_test, y_pred)\n",
    "print(\"\\nAcurácia do modelo:\", acuracia)\n",
    "print(\"\\nRelatório de classificação:\\n\", classification_report(y_test, y_pred))\n",
    "\n",
    "# Passo 5: Classificação de um novo texto\n",
    "# Define umas função para classificar um novo texto usando o modelo treinado\n",
    "def classificar_texto(texto, vectorizer, modelo):\n",
    "  # Preprocessa o texto de entrada\n",
    "  texto_processado = preprocessar_texto(texto)\n",
    "  # Converte o texto pré-processado em um vetor TF-IDF\n",
    "  texto_tfidf = vectorizer.transform([texto_processado])\n",
    "  # Classifica o texto usando o modelo treinado\n",
    "  categoria_prevista = modelo.predict(texto_tfidf)[0]\n",
    "  # (Opcional) Obtém as probabilidades de cada categoria\n",
    "  probabilidades = modelo.predict_proba(texto_tfidf)[0]\n",
    "  categorias = modelo.classes_\n",
    "  probabilidades_por_categoria = dict(zip(categorias, probabilidades))\n",
    "  return categoria_prevista, probabilidades_por_categoria\n",
    "\n",
    "# Exemplo de uso da função para classificar um novo texto\n",
    "novo_texto = \"Este filme é incrível, recomendo a todos!\"\n",
    "categoria, probabilidades = classificar_texto(novo_texto, vectorizer, modelo)\n",
    "print(\"\\nNovo texto:\", novo_texto)\n",
    "print(\"Categoria prevista:\", categoria)\n",
    "print(\"Probabilidades por categoria:\", probabilidades)"
   ]
  },
  {
   "cell_type": "markdown",
   "metadata": {
    "id": "iqb7Cu9ZWH1Q"
   },
   "source": [
    "## Etapa 3 – Treinamento do modelo"
   ]
  },
  {
   "cell_type": "code",
   "execution_count": 13,
   "metadata": {
    "colab": {
     "base_uri": "https://localhost:8080/"
    },
    "executionInfo": {
     "elapsed": 712,
     "status": "ok",
     "timestamp": 1749858363452,
     "user": {
      "displayName": "Victor Myke Gracioli Rocha",
      "userId": "18280186660482340267"
     },
     "user_tz": 180
    },
    "id": "QkjIxsvPWSu4",
    "outputId": "15068bd1-8d8a-40b5-c51c-3a2295f8e4d1"
   },
   "outputs": [
    {
     "name": "stdout",
     "output_type": "stream",
     "text": [
      "\n",
      "Melhores hiperparâmetros para Regressão Logística: {'C': 0.1, 'solver': 'liblinear'}\n",
      "Melhores hiperparâmetros para SVM: {'C': 1, 'kernel': 'rbf'}\n",
      "\n",
      "Resultados da avaliação:\n",
      "\n",
      "Naive Bayes Multinomial:\n",
      "Acurácia: 0.5\n",
      "Relatório de classificação:\n",
      "               precision    recall  f1-score   support\n",
      "\n",
      "    negativo       0.50      1.00      0.67         1\n",
      "    positivo       0.00      0.00      0.00         1\n",
      "\n",
      "    accuracy                           0.50         2\n",
      "   macro avg       0.25      0.50      0.33         2\n",
      "weighted avg       0.25      0.50      0.33         2\n",
      "\n",
      "\n",
      "Regressão Logística:\n",
      "Acurácia: 0.5\n",
      "Relatório de classificação:\n",
      "               precision    recall  f1-score   support\n",
      "\n",
      "    negativo       0.50      1.00      0.67         1\n",
      "    positivo       0.00      0.00      0.00         1\n",
      "\n",
      "    accuracy                           0.50         2\n",
      "   macro avg       0.25      0.50      0.33         2\n",
      "weighted avg       0.25      0.50      0.33         2\n",
      "\n",
      "\n",
      "SVM:\n",
      "Acurácia: 1.0\n",
      "Relatório de classificação:\n",
      "               precision    recall  f1-score   support\n",
      "\n",
      "    negativo       1.00      1.00      1.00         1\n",
      "    positivo       1.00      1.00      1.00         1\n",
      "\n",
      "    accuracy                           1.00         2\n",
      "   macro avg       1.00      1.00      1.00         2\n",
      "weighted avg       1.00      1.00      1.00         2\n",
      "\n"
     ]
    },
    {
     "name": "stderr",
     "output_type": "stream",
     "text": [
      "d:\\Users\\antho\\AppData\\Local\\Programs\\Python\\Python312\\Lib\\site-packages\\sklearn\\metrics\\_classification.py:1565: UndefinedMetricWarning: Precision is ill-defined and being set to 0.0 in labels with no predicted samples. Use `zero_division` parameter to control this behavior.\n",
      "  _warn_prf(average, modifier, f\"{metric.capitalize()} is\", len(result))\n",
      "d:\\Users\\antho\\AppData\\Local\\Programs\\Python\\Python312\\Lib\\site-packages\\sklearn\\metrics\\_classification.py:1565: UndefinedMetricWarning: Precision is ill-defined and being set to 0.0 in labels with no predicted samples. Use `zero_division` parameter to control this behavior.\n",
      "  _warn_prf(average, modifier, f\"{metric.capitalize()} is\", len(result))\n",
      "d:\\Users\\antho\\AppData\\Local\\Programs\\Python\\Python312\\Lib\\site-packages\\sklearn\\metrics\\_classification.py:1565: UndefinedMetricWarning: Precision is ill-defined and being set to 0.0 in labels with no predicted samples. Use `zero_division` parameter to control this behavior.\n",
      "  _warn_prf(average, modifier, f\"{metric.capitalize()} is\", len(result))\n",
      "d:\\Users\\antho\\AppData\\Local\\Programs\\Python\\Python312\\Lib\\site-packages\\sklearn\\metrics\\_classification.py:1565: UndefinedMetricWarning: Precision is ill-defined and being set to 0.0 in labels with no predicted samples. Use `zero_division` parameter to control this behavior.\n",
      "  _warn_prf(average, modifier, f\"{metric.capitalize()} is\", len(result))\n",
      "d:\\Users\\antho\\AppData\\Local\\Programs\\Python\\Python312\\Lib\\site-packages\\sklearn\\metrics\\_classification.py:1565: UndefinedMetricWarning: Precision is ill-defined and being set to 0.0 in labels with no predicted samples. Use `zero_division` parameter to control this behavior.\n",
      "  _warn_prf(average, modifier, f\"{metric.capitalize()} is\", len(result))\n",
      "d:\\Users\\antho\\AppData\\Local\\Programs\\Python\\Python312\\Lib\\site-packages\\sklearn\\metrics\\_classification.py:1565: UndefinedMetricWarning: Precision is ill-defined and being set to 0.0 in labels with no predicted samples. Use `zero_division` parameter to control this behavior.\n",
      "  _warn_prf(average, modifier, f\"{metric.capitalize()} is\", len(result))\n"
     ]
    }
   ],
   "source": [
    "# Importação de ferramentas utilizadas\n",
    "from sklearn.linear_model import LogisticRegression\n",
    "from sklearn.svm import SVC\n",
    "from sklearn.model_selection import GridSearchCV\n",
    "\n",
    "# Etapa 3: Treinamento do modelo\n",
    "# Passo 1: Escolher um ou mais modelos de aprendizado de máquina para classificação\n",
    "#(Naive Bayes, Regressão Logística, SVM, Transformers).\n",
    "# Neste código, serão utilizados Naive Bayes, Regressão Logística e SVM.\n",
    "# Passo 2: Instanciar os modelos\n",
    "# Instancia os modelos de aprendizado de máquina.\n",
    "naive_bayes_model = MultinomialNB()\n",
    "logistic_regression_model = LogisticRegression(random_state=42)\n",
    "svm_model = SVC(random_state=42, probability=True)\n",
    "\n",
    "# Passo 3: Treinar os modelos usando os dados de treinamento e as representações de texto extreídas\n",
    "# Treina os modelos usando os dados de treinamento e as representações TF-IDF.\n",
    "naive_bayes_model.fit(X_train_tfidf, y_train)\n",
    "logistic_regression_model.fit(X_train_tfidf, y_train)\n",
    "svm_model.fit(X_train_tfidf, y_train)\n",
    "\n",
    "# Passo 4: Ajustar os hiperparâmetros dos modelos usando  validação cruzada (opcional)\n",
    "# Define os hiperparâametros a serem ajustados para cada modelo.\n",
    "param_grid_nb = {} # Naive Bayes não possui hiperparâmetros significativos para ajustar\n",
    "param_grid_lr = {'C': [0.1, 1, 10], 'solver': ['liblinear', 'lbfgs']}\n",
    "param_grid_svm = {'C': [0.1, 1, 10], 'kernel': ['linear', 'rbf']}\n",
    "\n",
    "# Realiza a busca em grande com validação cruzada para encontrar os melhores hiperparâmetros.\n",
    "grid_search_lr = GridSearchCV(logistic_regression_model, param_grid_lr, cv=2)\n",
    "grid_search_svm = GridSearchCV(svm_model, param_grid_svm, cv=2)\n",
    "\n",
    "grid_search_lr.fit(X_train_tfidf, y_train)\n",
    "grid_search_svm.fit(X_train_tfidf, y_train)\n",
    "\n",
    "# Imprine os melhores hiperparâmetros encontrados.\n",
    "print(\"\\nMelhores hiperparâmetros para Regressão Logística:\", grid_search_lr.best_params_)\n",
    "print(\"Melhores hiperparâmetros para SVM:\", grid_search_svm.best_params_)\n",
    "\n",
    "# Obtém os modelos com os melhores hiperparâmetros.\n",
    "best_logistic_regression_model = grid_search_lr.best_estimator_\n",
    "best_svm_model = grid_search_svm.best_estimator_\n",
    "\n",
    "\n",
    "# Passo 4: Avaliação do modelo\n",
    "# Avalia o desempenho dos modelos usando o conjunto de teste.\n",
    "# Calcula a acurácia a exibe um relatório de classificação detalhado para cada modelo.\n",
    "print(\"\\nResultados da avaliação:\")\n",
    "\n",
    "# Avaliação do modelo Naive Bayes\n",
    "y_pred_nb = naive_bayes_model.predict(X_test_tfidf)\n",
    "acuracia_nb = accuracy_score(y_test, y_pred_nb)\n",
    "print(\"\\nNaive Bayes Multinomial:\")\n",
    "print(\"Acurácia:\", acuracia_nb)\n",
    "print(\"Relatório de classificação:\\n\", classification_report(y_test, y_pred_nb))\n",
    "\n",
    "# Avaliação do modelo de Regrssão Logística\n",
    "y_pred_lr = best_logistic_regression_model.predict(X_test_tfidf)\n",
    "acuracia_lr = accuracy_score(y_test, y_pred_lr)\n",
    "print(\"\\nRegressão Logística:\")\n",
    "print(\"Acurácia:\", acuracia_lr)\n",
    "print(\"Relatório de classificação:\\n\", classification_report(y_test, y_pred_lr))\n",
    "\n",
    "# Avaliação do modelo SVM\n",
    "y_pred_svm = best_svm_model.predict(X_test_tfidf)\n",
    "acuracia_svm = accuracy_score(y_test, y_pred_svm)\n",
    "print(\"\\nSVM:\")\n",
    "print(\"Acurácia:\", acuracia_svm)\n",
    "print(\"Relatório de classificação:\\n\", classification_report(y_test, y_pred_svm))\n",
    "\n",
    "\n",
    "# Passo 5: Classificação de um novo texto\n",
    "# Define uma função para classificar um novo texto usando o modelo treinado.\n",
    "def classificar_texto(texto, vectorizer, modelo):\n",
    "  # Preprocessa o texto de entrada\n",
    "  texto_processado = preprocessar_texto(texto)\n",
    "  # Converte o texto pré-processado em um vetor TF-IDF\n",
    "  texto_tfidf = vectorizer.transform([texto_processado])\n",
    "  # Classifica o texto usando o modelo treinado\n",
    "  categoria_prevista = modelo.predict(texto_tfidf)[0]\n",
    "  # (Opcional) Obtém as probabilidades de cada categoria\n",
    "  probabilidades = modelo.predict_proba(texto_tfidf)[0]\n",
    "  categorias = modelo.classes_\n",
    "  probabilidades_por_categoria = dict(zip(categorias, probabilidades))\n",
    "  return categoria_prevista, probabilidades_por_categoria"
   ]
  },
  {
   "cell_type": "code",
   "execution_count": 14,
   "metadata": {
    "colab": {
     "base_uri": "https://localhost:8080/"
    },
    "executionInfo": {
     "elapsed": 9,
     "status": "ok",
     "timestamp": 1749858445509,
     "user": {
      "displayName": "Victor Myke Gracioli Rocha",
      "userId": "18280186660482340267"
     },
     "user_tz": 180
    },
    "id": "9clbWpw7hjiq",
    "outputId": "9829808a-6a61-4594-8be6-6c7295126035"
   },
   "outputs": [
    {
     "name": "stdout",
     "output_type": "stream",
     "text": [
      "\n",
      "Novo texto: Este filme é incrível, recomendo a todos!\n",
      "\n",
      "Resultados da classificação:\n",
      "\n",
      "Naive Bayes Multinomial:\n",
      "Categoria prevista: positivo\n",
      "Probabilidades por categoria: {np.str_('negativo'): np.float64(0.29256806327043555), np.str_('positivo'): np.float64(0.7074319367295648)}\n",
      "\n",
      "Regressão Logística:\n",
      "Categoria prevista: positivo\n",
      "Probabilidades por categoria: {'negativo': np.float64(0.4868942836287754), 'positivo': np.float64(0.5131057163712246)}\n",
      "\n",
      "SVM:\n",
      "Categoria prevista: positivo\n",
      "Probabilidades por categoria: {'negativo': np.float64(0.8817303978937229), 'positivo': np.float64(0.11826960210627731)}\n"
     ]
    }
   ],
   "source": [
    "# Exemplo de uso da função para classificar um novo texto\n",
    "novo_texto = \"Este filme é incrível, recomendo a todos!\"\n",
    "categoria_nb, probabilidades_nb = classificar_texto(novo_texto, vectorizer, naive_bayes_model)\n",
    "categoria_lr, probabilidades_lr = classificar_texto(novo_texto, vectorizer, best_logistic_regression_model)\n",
    "categoria_svm, probabilidades_svm = classificar_texto(novo_texto, vectorizer, best_svm_model)\n",
    "\n",
    "print(\"\\nNovo texto:\", novo_texto)\n",
    "print(\"\\nResultados da classificação:\")\n",
    "print(\"\\nNaive Bayes Multinomial:\")\n",
    "print(\"Categoria prevista:\", categoria_nb)\n",
    "print(\"Probabilidades por categoria:\", probabilidades_nb)\n",
    "print(\"\\nRegressão Logística:\")\n",
    "print(\"Categoria prevista:\", categoria_lr)\n",
    "print(\"Probabilidades por categoria:\", probabilidades_lr)\n",
    "print(\"\\nSVM:\")\n",
    "print(\"Categoria prevista:\", categoria_svm)\n",
    "print(\"Probabilidades por categoria:\", probabilidades_svm)"
   ]
  },
  {
   "cell_type": "markdown",
   "metadata": {
    "id": "jsLAVC43ipZB"
   },
   "source": [
    "## Etapa 4 – Avaliação do modelo"
   ]
  },
  {
   "cell_type": "code",
   "execution_count": 15,
   "metadata": {
    "colab": {
     "base_uri": "https://localhost:8080/",
     "height": 1000
    },
    "executionInfo": {
     "elapsed": 270,
     "status": "ok",
     "timestamp": 1749858620152,
     "user": {
      "displayName": "Victor Myke Gracioli Rocha",
      "userId": "18280186660482340267"
     },
     "user_tz": 180
    },
    "id": "nM0rxX2miv_g",
    "outputId": "a2cf2f78-3e08-45c3-8493-1e2982d6997c"
   },
   "outputs": [
    {
     "name": "stdout",
     "output_type": "stream",
     "text": [
      "\n",
      "Etapa 4: Avaliação do Modelo\n",
      "\n",
      "Resultados da avaliação:\n",
      "\n",
      "Regressão Logística:\n",
      "Acurácia: 0.5\n",
      "Relatório de classificação:\n",
      "               precision    recall  f1-score   support\n",
      "\n",
      "    negativo       0.50      1.00      0.67         1\n",
      "    positivo       0.00      0.00      0.00         1\n",
      "\n",
      "    accuracy                           0.50         2\n",
      "   macro avg       0.25      0.50      0.33         2\n",
      "weighted avg       0.25      0.50      0.33         2\n",
      "\n",
      "\n",
      "SVM:\n",
      "Acurácia: 1.0\n",
      "Relatório de classificação:\n",
      "               precision    recall  f1-score   support\n",
      "\n",
      "    negativo       1.00      1.00      1.00         1\n",
      "    positivo       1.00      1.00      1.00         1\n",
      "\n",
      "    accuracy                           1.00         2\n",
      "   macro avg       1.00      1.00      1.00         2\n",
      "weighted avg       1.00      1.00      1.00         2\n",
      "\n",
      "\n",
      "Comparação dos modelos:\n",
      "Acurácia Naive Bayes: 0.5000\n",
      "Acurácia Regressão Logística: 0.5000\n",
      "Acurácia SVM: 1.0000\n"
     ]
    },
    {
     "name": "stderr",
     "output_type": "stream",
     "text": [
      "d:\\Users\\antho\\AppData\\Local\\Programs\\Python\\Python312\\Lib\\site-packages\\sklearn\\metrics\\_classification.py:1565: UndefinedMetricWarning: Precision is ill-defined and being set to 0.0 in labels with no predicted samples. Use `zero_division` parameter to control this behavior.\n",
      "  _warn_prf(average, modifier, f\"{metric.capitalize()} is\", len(result))\n",
      "d:\\Users\\antho\\AppData\\Local\\Programs\\Python\\Python312\\Lib\\site-packages\\sklearn\\metrics\\_classification.py:1565: UndefinedMetricWarning: Precision is ill-defined and being set to 0.0 in labels with no predicted samples. Use `zero_division` parameter to control this behavior.\n",
      "  _warn_prf(average, modifier, f\"{metric.capitalize()} is\", len(result))\n",
      "d:\\Users\\antho\\AppData\\Local\\Programs\\Python\\Python312\\Lib\\site-packages\\sklearn\\metrics\\_classification.py:1565: UndefinedMetricWarning: Precision is ill-defined and being set to 0.0 in labels with no predicted samples. Use `zero_division` parameter to control this behavior.\n",
      "  _warn_prf(average, modifier, f\"{metric.capitalize()} is\", len(result))\n"
     ]
    },
    {
     "data": {
      "image/png": "[encoded data removed]",
      "text/plain": [
       "<Figure size 800x600 with 1 Axes>"
      ]
     },
     "metadata": {},
     "output_type": "display_data"
    }
   ],
   "source": [
    "# Etapa 4: Avaliação do modelo\n",
    "# Passo 1: Fazer previsões no conjunto de teste usando os modelos treinados.\n",
    "# Passo 2: Calcular as métricas de desempenho apropriadas (precisão, renovação, F1-score, acurácia).\n",
    "# Passo 3: Exibir e analisar os resultados.\n",
    "\n",
    "print(\"\\nEtapa 4: Avaliação do Modelo\")\n",
    "print(\"\\nResultados da avaliação:\")\n",
    "\n",
    "# Avaliação do modelo de Regressão Logística\n",
    "y_pred_lr = best_logistic_regression_model.predict(X_test_tfidf)\n",
    "acuracia_lr = accuracy_score(y_test, y_pred_lr)\n",
    "print(\"\\nRegressão Logística:\")\n",
    "print(\"Acurácia:\", acuracia_lr)\n",
    "print(\"Relatório de classificação:\\n\", classification_report(y_test, y_pred_lr))\n",
    "\n",
    "# Avaliação do modelo SVM\n",
    "y_pred_svm = best_svm_model.predict(X_test_tfidf)\n",
    "acuracia_svm = accuracy_score(y_test, y_pred_svm)\n",
    "print(\"\\nSVM:\")\n",
    "print(\"Acurácia:\", acuracia_svm)\n",
    "print(\"Relatório de classificação:\\n\", classification_report(y_test, y_pred_svm))\n",
    "\n",
    "# Passo 4: Comparar o desempenho dos diferentes modelos.\n",
    "print(\"\\nComparação dos modelos:\")\n",
    "print(f\"Acurácia Naive Bayes: {acuracia_nb:.4f}\")\n",
    "print(f\"Acurácia Regressão Logística: {acuracia_lr:.4f}\")\n",
    "print(f\"Acurácia SVM: {acuracia_svm:.4f}\")\n",
    "\n",
    "modelos = ['Naive Bayes', 'Regressão Logística', 'SVM']\n",
    "acuracias = [acuracia_nb, acuracia_lr, acuracia_svm]\n",
    "\n",
    "plt.figure(figsize=(8, 6))\n",
    "plt.bar(modelos, acuracias, color=['blue', 'green', 'red'])\n",
    "plt.xlabel('Modelos')\n",
    "plt.ylabel('Acurácia')\n",
    "plt.title('Comparação de Acurácia dos Modelos')\n",
    "plt.ylim(0, 1) # Defina o limite do eixo y para 0 a 1\n",
    "plt.show()"
   ]
  },
  {
   "cell_type": "markdown",
   "metadata": {
    "id": "7Ym2_NjBrhtF"
   },
   "source": [
    "## Etapa 5 – Classificação de um novo texto"
   ]
  },
  {
   "cell_type": "code",
   "execution_count": 16,
   "metadata": {
    "colab": {
     "base_uri": "https://localhost:8080/"
    },
    "executionInfo": {
     "elapsed": 48,
     "status": "ok",
     "timestamp": 1749859521624,
     "user": {
      "displayName": "Victor Myke Gracioli Rocha",
      "userId": "18280186660482340267"
     },
     "user_tz": 180
    },
    "id": "ZvOUjIcTrrt8",
    "outputId": "441539f7-83b7-4339-d992-136ffabfec40"
   },
   "outputs": [
    {
     "name": "stdout",
     "output_type": "stream",
     "text": [
      "\n",
      "Etapa 5: Classificação de um novo texto\n",
      "\n",
      "Novo texto: Este filme é incrível, recomendo a todos!\n",
      "\n",
      "Resultados da classificação:\n",
      "\n",
      "Naive Bayes:\n",
      "Categoria prevista: positivo\n",
      "Probabilidades: {np.str_('negativo'): np.float64(0.29256806327043555), np.str_('positivo'): np.float64(0.7074319367295648)}\n",
      "\n",
      "Regressão Logística:\n",
      "Categoria prevista: positivo\n",
      "Probabilidades: {'negativo': np.float64(0.4868942836287754), 'positivo': np.float64(0.5131057163712246)}\n",
      "\n",
      "SVM:\n",
      "Categoria prevista: positivo\n",
      "Probabilidades: {'negativo': np.float64(0.8817303978937229), 'positivo': np.float64(0.11826960210627731)}\n"
     ]
    }
   ],
   "source": [
    "# Etapa 5: Classificação de um novo texto\n",
    "# Passo 1: Pré-processar o novo texto de entrada usando as mesmas etapas da Etapa 1.\n",
    "# Passo 2: Extrair as características do novo texto usando o mesmo método da Etapa 2.\n",
    "# Passo 3: Usar o modelo treinado para prever a categoria do novo texto.\n",
    "# Passo 4: Exibir a categoria prevista e (opcionalmente) as probabilidades de cada categoria.\n",
    "print(\"\\nEtapa 5: Classificação de um novo texto\")\n",
    "\n",
    "def classificar_novo_texto(texto, vectorizer, modelo):\n",
    "  \"\"\"\n",
    "  Classifica um novo texto usando o modelo treinado.\n",
    "\n",
    "  Args:\n",
    "    texto: O texto a ser classificado.\n",
    "    vectorizer: O vetorizador TF-IDF usado para extrair as características do texto.\n",
    "    modelo: O modelo de aprendizado de máquina treinado.\n",
    "\n",
    "  Returns:\n",
    "    str: A categoria prevista.\n",
    "    dict: As probabilidades de o texto pertencer a cada categoria.\n",
    "  \"\"\"\n",
    "  # Passo 1: Pré-processar o novo texto de entrada usando as mesmas etapas da Etapa 1.\n",
    "  texto_processado = preprocessar_texto(texto)\n",
    "\n",
    "  # Passo 2: Extrair as características do novo texto usando o mesmo método da Etapa 2.\n",
    "  texto_tfidf = vectorizer.transform([texto_processado])\n",
    "\n",
    "  # Passo 3: Usar o modelo treinado para prever a categoria do novo texto.\n",
    "  categoria_prevista = modelo.predict(texto_tfidf)[0]\n",
    "\n",
    "  # Passo 4: Exibir a categoria prevista e (opcionalmente) as probabilidades de cada categoria.\n",
    "  try:\n",
    "    probabilidades = modelo.predict_proba(texto_tfidf)[0]\n",
    "    categorias = modelo.classes_\n",
    "    probabilidades_por_categoria = dict(zip(categorias, probabilidades))\n",
    "    return categoria_prevista, probabilidades_por_categoria\n",
    "  except AttributeError:\n",
    "    return categoria_prevista, {} # Modelos como SVM podem não ter predict_proba\n",
    "\n",
    "# Exemplo de uso da função para classificar um novo texto\n",
    "novo_texto = \"Este filme é incrível, recomendo a todos!\"\n",
    "\n",
    "print(\"\\nNovo texto:\", novo_texto)\n",
    "print(\"\\nResultados da classificação:\")\n",
    "\n",
    "# Classificar usando Naive Bayes\n",
    "categoria_nb, probabilidades_nb = classificar_novo_texto(novo_texto, vectorizer, naive_bayes_model)\n",
    "print(\"\\nNaive Bayes:\")\n",
    "print(\"Categoria prevista:\", categoria_nb)\n",
    "if probabilidades_nb:\n",
    "  print(\"Probabilidades:\", probabilidades_nb)\n",
    "\n",
    "# Classificar usando Regressão Logística\n",
    "categoria_lr, probabilidades_lr = classificar_novo_texto(novo_texto, vectorizer, best_logistic_regression_model)\n",
    "print(\"\\nRegressão Logística:\")\n",
    "print(\"Categoria prevista:\", categoria_lr)\n",
    "if probabilidades_lr:\n",
    "  print(\"Probabilidades:\", probabilidades_lr)\n",
    "\n",
    "# Classificar usando SVM\n",
    "categoria_svm, probabilidades_svm = classificar_novo_texto(novo_texto, vectorizer, best_svm_model)\n",
    "print(\"\\nSVM:\")\n",
    "print(\"Categoria prevista:\", categoria_svm)\n",
    "if probabilidades_svm:\n",
    "  print(\"Probabilidades:\", probabilidades_svm)"
   ]
  }
 ],
 "metadata": {
  "colab": {
   "authorship_tag": "ABX9TyM/wdDRuZVB/fuFcJsHsl9I",
   "provenance": []
  },
  "kernelspec": {
   "display_name": "Python 3",
   "name": "python3"
  },
  "language_info": {
   "codemirror_mode": {
    "name": "ipython",
    "version": 3
   },
   "file_extension": ".py",
   "mimetype": "text/x-python",
   "name": "python",
   "nbconvert_exporter": "python",
   "pygments_lexer": "ipython3",
   "version": "3.12.6"
  }
 },
 "nbformat": 4,
 "nbformat_minor": 0
}
