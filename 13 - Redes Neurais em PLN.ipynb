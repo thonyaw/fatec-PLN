{
 "cells": [
  {
   "cell_type": "markdown",
   "metadata": {
    "id": "wMINlXzjJJSH"
   },
   "source": [
    "# Redes Neurais em PLN"
   ]
  },
  {
   "cell_type": "markdown",
   "metadata": {},
   "source": [
    "## Descrição\n",
    "Aplicar redes neurais em tarefas de classificação de texto usando técnicas de PLN, utilizando a biblitoeca TensorFlow para construção de modelos. As técnicas envolvem vetorização dos textos com métodos como Tokenizer e padronização com pad_sequences, além da criação e treino de modelos de rede neural para prever sentimentos ou categorias de texto."
   ]
  },
  {
   "cell_type": "markdown",
   "metadata": {
    "id": "ycF-LKg_VDAW"
   },
   "source": [
    "## Implementação 1: Modelo de Rede Neural de Recorrência"
   ]
  },
  {
   "cell_type": "markdown",
   "metadata": {
    "id": "uHYQDCgRNGJ-"
   },
   "source": [
    "### Passo 1: Configuração do Ambiente no Google Colab"
   ]
  },
  {
   "cell_type": "code",
   "execution_count": 7,
   "metadata": {
    "colab": {
     "base_uri": "https://localhost:8080/"
    },
    "executionInfo": {
     "elapsed": 16569,
     "status": "ok",
     "timestamp": 1749859727940,
     "user": {
      "displayName": "Victor Myke Gracioli Rocha",
      "userId": "18280186660482340267"
     },
     "user_tz": 180
    },
    "id": "f0RTOVrxhdVc",
    "outputId": "dc63a010-4135-4af3-d0be-faf7b6fb633b"
   },
   "outputs": [
    {
     "name": "stdout",
     "output_type": "stream",
     "text": [
      "Bibliotecas importadas com sucesso!\n"
     ]
    }
   ],
   "source": [
    "# Importar bibliotecas necessárias\n",
    "import numpy as np\n",
    "import tensorflow as tf\n",
    "from tensorflow.keras.models import Sequential\n",
    "from tensorflow.keras.layers import Embedding, SimpleRNN, Dense\n",
    "from tensorflow.keras.preprocessing.text import Tokenizer\n",
    "from tensorflow.keras.preprocessing.sequence import pad_sequences\n",
    "print(\"Bibliotecas importadas com sucesso!\")"
   ]
  },
  {
   "cell_type": "markdown",
   "metadata": {
    "id": "R1CS8SwPN2_d"
   },
   "source": [
    "Explicação:\n",
    "*   numpy: Para operações numéricas.\n",
    "*   tensorflow.keras: A API de alto nível para construir e treinar modelos de deep learning.\n",
    "*   Embedding: camada que transforma palavras (indices numéricos) em vetores densos.\n",
    "*   SimpleRNN: A camada de Rede Neural recorrente mais básica.\n",
    "*   Dense: Camada neural comum (fully connected layer).\n",
    "*   Tokenizer: Para converter texto em sequências de números.\n",
    "*   pad_sequences: Para garantir que todas as sequências de entrada tenham o mesmo comprimento.\n",
    "\n"
   ]
  },
  {
   "cell_type": "markdown",
   "metadata": {
    "id": "y--LE1jcQAOt"
   },
   "source": [
    "### Passo 2: Preparação do Conjunto de Dados"
   ]
  },
  {
   "cell_type": "code",
   "execution_count": 8,
   "metadata": {
    "colab": {
     "base_uri": "https://localhost:8080/"
    },
    "executionInfo": {
     "elapsed": 28,
     "status": "ok",
     "timestamp": 1749859736209,
     "user": {
      "displayName": "Victor Myke Gracioli Rocha",
      "userId": "18280186660482340267"
     },
     "user_tz": 180
    },
    "id": "N5ojTgQlQJRl",
    "outputId": "4bd4d605-41d0-4f56-d8be-72aa27ab294d"
   },
   "outputs": [
    {
     "name": "stdout",
     "output_type": "stream",
     "text": [
      "Textos de treinamento: ['eu gosto de programar em python', 'python é uma linguagem poderosa', 'programar é divertido com python', 'aprenda python e seja feliz', 'gosto de aprender coisas novas']\n"
     ]
    }
   ],
   "source": [
    "# Conjunto de dados de treinamento (pequeno e simplificado)\n",
    "textos_treinamento = [\n",
    "    \"eu gosto de programar em python\",\n",
    "    \"python é uma linguagem poderosa\",\n",
    "    \"programar é divertido com python\",\n",
    "    \"aprenda python e seja feliz\",\n",
    "    \"gosto de aprender coisas novas\",\n",
    "]\n",
    "print(f\"Textos de treinamento: {textos_treinamento}\")"
   ]
  },
  {
   "cell_type": "code",
   "execution_count": 9,
   "metadata": {
    "colab": {
     "base_uri": "https://localhost:8080/"
    },
    "executionInfo": {
     "elapsed": 43,
     "status": "ok",
     "timestamp": 1749859767941,
     "user": {
      "displayName": "Victor Myke Gracioli Rocha",
      "userId": "18280186660482340267"
     },
     "user_tz": 180
    },
    "id": "v9krczj_RC89",
    "outputId": "5677a2a1-5612-43a0-fc02-eb7f7075632e"
   },
   "outputs": [
    {
     "name": "stdout",
     "output_type": "stream",
     "text": [
      "\n",
      "Vocabulário (palavra: índice): {'python': 1, 'gosto': 2, 'de': 3, 'programar': 4, 'é': 5, 'eu': 6, 'em': 7, 'uma': 8, 'linguagem': 9, 'poderosa': 10, 'divertido': 11, 'com': 12, 'aprenda': 13, 'e': 14, 'seja': 15, 'feliz': 16, 'aprender': 17, 'coisas': 18, 'novas': 19}\n",
      "Sequências numéricas dos textos: [[6, 2, 3, 4, 7, 1], [1, 5, 8, 9, 10], [4, 5, 11, 12, 1], [13, 1, 14, 15, 16], [2, 3, 17, 18, 19]]\n",
      "Tamanho total do vocabulário: 20\n"
     ]
    }
   ],
   "source": [
    "# Inicializar o Tokenizer\n",
    "tokenizer = Tokenizer()\n",
    "\n",
    "# Construir o vocabulário a partir dos textos\n",
    "tokenizer.fit_on_texts(textos_treinamento)\n",
    "\n",
    "# Converter textos em sequências de números\n",
    "sequencias = tokenizer.texts_to_sequences(textos_treinamento)\n",
    "\n",
    "# Imprimir o vocabulário e as sequências geradas\n",
    "print(f\"\\nVocabulário (palavra: índice): {tokenizer.word_index}\")\n",
    "print(f\"Sequências numéricas dos textos: {sequencias}\")\n",
    "\n",
    "# Calcular o tamanho do vocabulário (+1 para incluir o 0 de padding)\n",
    "total_palavras = len(tokenizer.word_index) + 1\n",
    "print(f\"Tamanho total do vocabulário: {total_palavras}\")"
   ]
  },
  {
   "cell_type": "code",
   "execution_count": 10,
   "metadata": {
    "colab": {
     "base_uri": "https://localhost:8080/"
    },
    "executionInfo": {
     "elapsed": 10,
     "status": "ok",
     "timestamp": 1749859951983,
     "user": {
      "displayName": "Victor Myke Gracioli Rocha",
      "userId": "18280186660482340267"
     },
     "user_tz": 180
    },
    "id": "SsTz57WmSZrO",
    "outputId": "e658286d-9cdc-42f6-ffb0-49a28a1ae051"
   },
   "outputs": [
    {
     "name": "stdout",
     "output_type": "stream",
     "text": [
      "\n",
      "Comprimento máximo das sequências antes do padding: 6\n",
      "Exemplo de entradas_x (parcial): [[6], [6, 2], [6, 2, 3], [6, 2, 3, 4], [6, 2, 3, 4, 7]]\n",
      "Exemplo de saidas_y (parcial): [2, 3, 4, 7, 1]\n",
      "\n",
      "Exemplo de entradas_x_padded (após padding e truncagem): \n",
      "[[0 0 0 0 6]\n",
      " [0 0 0 6 2]\n",
      " [0 0 6 2 3]\n",
      " [0 6 2 3 4]\n",
      " [6 2 3 4 7]]\n",
      "Exemplo de saidas_y_one_hot (após one-hot encoding): \n",
      "[[0. 0. 1. 0. 0. 0. 0. 0. 0. 0. 0. 0. 0. 0. 0. 0. 0. 0. 0. 0.]\n",
      " [0. 0. 0. 1. 0. 0. 0. 0. 0. 0. 0. 0. 0. 0. 0. 0. 0. 0. 0. 0.]\n",
      " [0. 0. 0. 0. 1. 0. 0. 0. 0. 0. 0. 0. 0. 0. 0. 0. 0. 0. 0. 0.]\n",
      " [0. 0. 0. 0. 0. 0. 0. 1. 0. 0. 0. 0. 0. 0. 0. 0. 0. 0. 0. 0.]\n",
      " [0. 1. 0. 0. 0. 0. 0. 0. 0. 0. 0. 0. 0. 0. 0. 0. 0. 0. 0. 0.]]\n",
      "Formato final das entradas (x): (21, 5)\n",
      "Formato final das saídas (y): (21, 20)\n"
     ]
    }
   ],
   "source": [
    "# Preparar Entradas (x) e Saídas (y) para aprevisão da próxima palavra\n",
    "# a entrada (x) será uma sequência de palavras, e a saída (y) será a palavra seguinte.\n",
    "# Determinar o comprimento máximo das sequências para padding\n",
    "max_comprimento = max(len(seq) for seq in sequencias)\n",
    "print(f\"\\nComprimento máximo das sequências antes do padding: {max_comprimento}\")\n",
    "\n",
    "# Criar pares de entrada (sequência parcial) e saida (próxima palavra)\n",
    "# Ex: \"eu gosto de programar\" -> \"em\"\n",
    "#     \"gosto de programar em\" -> \"python\"\n",
    "entradas_x = []\n",
    "saidas_y = []\n",
    "\n",
    "for seq in sequencias:\n",
    "    for i in range(1, len(seq)):\n",
    "        entradas_x.append(seq[:i]) # A sequência até a palavra atual\n",
    "        saidas_y.append(seq[i])    # A próxima palavra\n",
    "\n",
    "print(f\"Exemplo de entradas_x (parcial): {entradas_x[0:5]}\")\n",
    "print(f\"Exemplo de saidas_y (parcial): {saidas_y[0:5]}\")\n",
    "\n",
    "# Padronizar o comprimento das sequências de entrada\n",
    "# Todas as seuências de entrada precisam ter o mesmo comprimento para a RNN\n",
    "entradas_X_padded = pad_sequences(entradas_x, maxlen=max_comprimento -1, padding='pre')\n",
    "# O maxlen é `max_comprimento -1` porque saída `y` é a última palavra, então X sempre terá 1 palavra a menos.\n",
    "\n",
    "# Converter as saídas para o formato one-hot encoding\n",
    "# Isso é necessário para a camada de saída da RNN (softmax)\n",
    "saidas_Y_one_hot = tf.keras.utils.to_categorical(saidas_y, num_classes=total_palavras)\n",
    "\n",
    "print(f\"\\nExemplo de entradas_x_padded (após padding e truncagem): \\n{entradas_X_padded[0:5]}\")\n",
    "print(f\"Exemplo de saidas_y_one_hot (após one-hot encoding): \\n{saidas_Y_one_hot[0:5]}\")\n",
    "print(f\"Formato final das entradas (x): {entradas_X_padded.shape}\")\n",
    "print(f\"Formato final das saídas (y): {saidas_Y_one_hot.shape}\")"
   ]
  },
  {
   "cell_type": "markdown",
   "metadata": {
    "id": "YyrpTzQmi8vV"
   },
   "source": [
    "Explicação:\n",
    "\n",
    "\n",
    "*   Geração de Pares (Sequência -> Próxima palavra): Para treinar a RNN a prever a próxima palavra, transformamos cada frase em multiplos pares de (sequência parcial, próxima palavra).\n",
    "*   pad_sequences: É vital. Como as sequências parciais têm comprimentos variados, pad_sequences preenche (com zeros, por padrão) as sequências mais curtas para que todas tenham o mesmo maxlen. O padding='pre' significa que os zeros são adicionados no inicio.\n",
    "*   to_categorical: A camada de saida da RNN (com softmax) produz uma probabilidade para cada palavra no vocabulário. to_categorical converte o indice da palavra real em um vetor onde apenas a posição da palavra correta é 1 e o resto é 0 (chamado de one-hot encoding).\n",
    "\n"
   ]
  },
  {
   "cell_type": "markdown",
   "metadata": {
    "id": "HH8PsPOJrLdF"
   },
   "source": [
    "### Passo 3: Construção do Modelo RNN"
   ]
  },
  {
   "cell_type": "code",
   "execution_count": 11,
   "metadata": {
    "colab": {
     "base_uri": "https://localhost:8080/",
     "height": 280
    },
    "executionInfo": {
     "elapsed": 108,
     "status": "ok",
     "timestamp": 1749860050681,
     "user": {
      "displayName": "Victor Myke Gracioli Rocha",
      "userId": "18280186660482340267"
     },
     "user_tz": 180
    },
    "id": "CrZKNcLmrK12",
    "outputId": "3d1d7649-d170-483e-c053-b628f6f1c399"
   },
   "outputs": [
    {
     "name": "stderr",
     "output_type": "stream",
     "text": [
      "d:\\Users\\antho\\AppData\\Local\\Programs\\Python\\Python312\\Lib\\site-packages\\keras\\src\\layers\\core\\embedding.py:97: UserWarning: Argument `input_length` is deprecated. Just remove it.\n",
      "  warnings.warn(\n"
     ]
    },
    {
     "data": {
      "text/html": [
       "<pre style=\"white-space:pre;overflow-x:auto;line-height:normal;font-family:Menlo,'DejaVu Sans Mono',consolas,'Courier New',monospace\"><span style=\"font-weight: bold\">Model: \"sequential\"</span>\n",
       "</pre>\n"
      ],
      "text/plain": [
       "\u001b[1mModel: \"sequential\"\u001b[0m\n"
      ]
     },
     "metadata": {},
     "output_type": "display_data"
    },
    {
     "data": {
      "text/html": [
       "<pre style=\"white-space:pre;overflow-x:auto;line-height:normal;font-family:Menlo,'DejaVu Sans Mono',consolas,'Courier New',monospace\">┏━━━━━━━━━━━━━━━━━━━━━━━━━━━━━━━━━┳━━━━━━━━━━━━━━━━━━━━━━━━┳━━━━━━━━━━━━━━━┓\n",
       "┃<span style=\"font-weight: bold\"> Layer (type)                    </span>┃<span style=\"font-weight: bold\"> Output Shape           </span>┃<span style=\"font-weight: bold\">       Param # </span>┃\n",
       "┡━━━━━━━━━━━━━━━━━━━━━━━━━━━━━━━━━╇━━━━━━━━━━━━━━━━━━━━━━━━╇━━━━━━━━━━━━━━━┩\n",
       "│ embedding (<span style=\"color: #0087ff; text-decoration-color: #0087ff\">Embedding</span>)           │ ?                      │   <span style=\"color: #00af00; text-decoration-color: #00af00\">0</span> (unbuilt) │\n",
       "├─────────────────────────────────┼────────────────────────┼───────────────┤\n",
       "│ simple_rnn (<span style=\"color: #0087ff; text-decoration-color: #0087ff\">SimpleRNN</span>)          │ ?                      │   <span style=\"color: #00af00; text-decoration-color: #00af00\">0</span> (unbuilt) │\n",
       "├─────────────────────────────────┼────────────────────────┼───────────────┤\n",
       "│ dense (<span style=\"color: #0087ff; text-decoration-color: #0087ff\">Dense</span>)                   │ ?                      │   <span style=\"color: #00af00; text-decoration-color: #00af00\">0</span> (unbuilt) │\n",
       "└─────────────────────────────────┴────────────────────────┴───────────────┘\n",
       "</pre>\n"
      ],
      "text/plain": [
       "┏━━━━━━━━━━━━━━━━━━━━━━━━━━━━━━━━━┳━━━━━━━━━━━━━━━━━━━━━━━━┳━━━━━━━━━━━━━━━┓\n",
       "┃\u001b[1m \u001b[0m\u001b[1mLayer (type)                   \u001b[0m\u001b[1m \u001b[0m┃\u001b[1m \u001b[0m\u001b[1mOutput Shape          \u001b[0m\u001b[1m \u001b[0m┃\u001b[1m \u001b[0m\u001b[1m      Param #\u001b[0m\u001b[1m \u001b[0m┃\n",
       "┡━━━━━━━━━━━━━━━━━━━━━━━━━━━━━━━━━╇━━━━━━━━━━━━━━━━━━━━━━━━╇━━━━━━━━━━━━━━━┩\n",
       "│ embedding (\u001b[38;5;33mEmbedding\u001b[0m)           │ ?                      │   \u001b[38;5;34m0\u001b[0m (unbuilt) │\n",
       "├─────────────────────────────────┼────────────────────────┼───────────────┤\n",
       "│ simple_rnn (\u001b[38;5;33mSimpleRNN\u001b[0m)          │ ?                      │   \u001b[38;5;34m0\u001b[0m (unbuilt) │\n",
       "├─────────────────────────────────┼────────────────────────┼───────────────┤\n",
       "│ dense (\u001b[38;5;33mDense\u001b[0m)                   │ ?                      │   \u001b[38;5;34m0\u001b[0m (unbuilt) │\n",
       "└─────────────────────────────────┴────────────────────────┴───────────────┘\n"
      ]
     },
     "metadata": {},
     "output_type": "display_data"
    },
    {
     "data": {
      "text/html": [
       "<pre style=\"white-space:pre;overflow-x:auto;line-height:normal;font-family:Menlo,'DejaVu Sans Mono',consolas,'Courier New',monospace\"><span style=\"font-weight: bold\"> Total params: </span><span style=\"color: #00af00; text-decoration-color: #00af00\">0</span> (0.00 B)\n",
       "</pre>\n"
      ],
      "text/plain": [
       "\u001b[1m Total params: \u001b[0m\u001b[38;5;34m0\u001b[0m (0.00 B)\n"
      ]
     },
     "metadata": {},
     "output_type": "display_data"
    },
    {
     "data": {
      "text/html": [
       "<pre style=\"white-space:pre;overflow-x:auto;line-height:normal;font-family:Menlo,'DejaVu Sans Mono',consolas,'Courier New',monospace\"><span style=\"font-weight: bold\"> Trainable params: </span><span style=\"color: #00af00; text-decoration-color: #00af00\">0</span> (0.00 B)\n",
       "</pre>\n"
      ],
      "text/plain": [
       "\u001b[1m Trainable params: \u001b[0m\u001b[38;5;34m0\u001b[0m (0.00 B)\n"
      ]
     },
     "metadata": {},
     "output_type": "display_data"
    },
    {
     "data": {
      "text/html": [
       "<pre style=\"white-space:pre;overflow-x:auto;line-height:normal;font-family:Menlo,'DejaVu Sans Mono',consolas,'Courier New',monospace\"><span style=\"font-weight: bold\"> Non-trainable params: </span><span style=\"color: #00af00; text-decoration-color: #00af00\">0</span> (0.00 B)\n",
       "</pre>\n"
      ],
      "text/plain": [
       "\u001b[1m Non-trainable params: \u001b[0m\u001b[38;5;34m0\u001b[0m (0.00 B)\n"
      ]
     },
     "metadata": {},
     "output_type": "display_data"
    }
   ],
   "source": [
    "# 1. Definindo o modelo\n",
    "# Definir a arquitetura do modelo RNN\n",
    "modelo_rnn = Sequential()\n",
    "\n",
    "# Camada de Embedding:\n",
    "# total_palavras: tamanho do vocabulário\n",
    "# 10: dimensão do vetor de embedding (quantas características queremos para cada palavra)\n",
    "# input_length: comprimento das sequências de entrada (maxlen - 1)\n",
    "modelo_rnn.add(Embedding(total_palavras, 10, input_length=entradas_X_padded.shape[1]))\n",
    "\n",
    "# Camada SimpleRNN:\n",
    "# 32: número de unidades (neurônios) na camada recorrente. Este é o tamanho de estado oculto.\n",
    "modelo_rnn.add(SimpleRNN(32))\n",
    "\n",
    "# Camada Densa de Saída:\n",
    "# total_palavras: número de neurônios de saída (um para cada palavra no vocabulário)\n",
    "# activation = 'softmax': função de ativação para probabilidade (soma 1 para todas as palavras)\n",
    "modelo_rnn.add(Dense(total_palavras, activation='softmax'))\n",
    "\n",
    "# Compilar o modelo\n",
    "modelo_rnn.compile(optimizer='adam', loss='categorical_crossentropy', metrics=['accuracy'])\n",
    "\n",
    "# Imprimir a arquitetura do modelo\n",
    "modelo_rnn.summary()"
   ]
  },
  {
   "cell_type": "markdown",
   "metadata": {
    "id": "KWwUMkPHkwKZ"
   },
   "source": [
    "Explicação da Arquitetura:\n",
    "\n",
    "*   Embedding Layer: Essencial em PLN. Ela mapeia cada palavra (representada por seu indice numérico) para um vetor denso de embedding. Este vetor captura relações semânticas entre as palavras. Por Exemplo, palavras com significados semelhantes estarão \"próximas\" no espaço de embedding.\n",
    "*   SampleRNN Layer: Esta é a camada recorrente. Ela recebe as sequências de embeddings e processa-as passo a passo. O 32 indica a dimensão do vetor de estado oculto (ou seja, a \"memória\" que a RNN carrega ao longo do tempo).\n",
    "*   Dense (Output) Layer: Esta camadafinal recebe o estado oculto final da SimpleRNN e o transforma em um vetor de probabilidades, onde cada posição corresponde a uma palavra do vocabulário, A função softmax garante que a soma dessas probabilidades seja 1."
   ]
  },
  {
   "cell_type": "markdown",
   "metadata": {
    "id": "J1vRIyfCuBL2"
   },
   "source": [
    "### Passo 4: Treinamento de modelo"
   ]
  },
  {
   "cell_type": "code",
   "execution_count": 12,
   "metadata": {
    "colab": {
     "base_uri": "https://localhost:8080/"
    },
    "executionInfo": {
     "elapsed": 10664,
     "status": "ok",
     "timestamp": 1749860194148,
     "user": {
      "displayName": "Victor Myke Gracioli Rocha",
      "userId": "18280186660482340267"
     },
     "user_tz": 180
    },
    "id": "Jbmem62SCSLr",
    "outputId": "227aac64-584d-4b1f-92f2-ff2ec0b84a15"
   },
   "outputs": [
    {
     "name": "stdout",
     "output_type": "stream",
     "text": [
      "\n",
      "Iniciando o treinamento do modelo RNN...\n",
      "Epoch 1/100\n",
      "\u001b[1m1/1\u001b[0m \u001b[32m━━━━━━━━━━━━━━━━━━━━\u001b[0m\u001b[37m\u001b[0m \u001b[1m1s\u001b[0m 1s/step - accuracy: 0.0476 - loss: 2.9927\n",
      "Epoch 2/100\n",
      "\u001b[1m1/1\u001b[0m \u001b[32m━━━━━━━━━━━━━━━━━━━━\u001b[0m\u001b[37m\u001b[0m \u001b[1m0s\u001b[0m 47ms/step - accuracy: 0.0952 - loss: 2.9840\n",
      "Epoch 3/100\n",
      "\u001b[1m1/1\u001b[0m \u001b[32m━━━━━━━━━━━━━━━━━━━━\u001b[0m\u001b[37m\u001b[0m \u001b[1m0s\u001b[0m 46ms/step - accuracy: 0.0476 - loss: 2.9755\n",
      "Epoch 4/100\n",
      "\u001b[1m1/1\u001b[0m \u001b[32m━━━━━━━━━━━━━━━━━━━━\u001b[0m\u001b[37m\u001b[0m \u001b[1m0s\u001b[0m 47ms/step - accuracy: 0.1429 - loss: 2.9670\n",
      "Epoch 5/100\n",
      "\u001b[1m1/1\u001b[0m \u001b[32m━━━━━━━━━━━━━━━━━━━━\u001b[0m\u001b[37m\u001b[0m \u001b[1m0s\u001b[0m 47ms/step - accuracy: 0.1429 - loss: 2.9586\n",
      "Epoch 6/100\n",
      "\u001b[1m1/1\u001b[0m \u001b[32m━━━━━━━━━━━━━━━━━━━━\u001b[0m\u001b[37m\u001b[0m \u001b[1m0s\u001b[0m 45ms/step - accuracy: 0.1429 - loss: 2.9502\n",
      "Epoch 7/100\n",
      "\u001b[1m1/1\u001b[0m \u001b[32m━━━━━━━━━━━━━━━━━━━━\u001b[0m\u001b[37m\u001b[0m \u001b[1m0s\u001b[0m 58ms/step - accuracy: 0.1429 - loss: 2.9416\n",
      "Epoch 8/100\n",
      "\u001b[1m1/1\u001b[0m \u001b[32m━━━━━━━━━━━━━━━━━━━━\u001b[0m\u001b[37m\u001b[0m \u001b[1m0s\u001b[0m 47ms/step - accuracy: 0.1429 - loss: 2.9330\n",
      "Epoch 9/100\n",
      "\u001b[1m1/1\u001b[0m \u001b[32m━━━━━━━━━━━━━━━━━━━━\u001b[0m\u001b[37m\u001b[0m \u001b[1m0s\u001b[0m 49ms/step - accuracy: 0.1905 - loss: 2.9242\n",
      "Epoch 10/100\n",
      "\u001b[1m1/1\u001b[0m \u001b[32m━━━━━━━━━━━━━━━━━━━━\u001b[0m\u001b[37m\u001b[0m \u001b[1m0s\u001b[0m 47ms/step - accuracy: 0.1905 - loss: 2.9152\n",
      "Epoch 11/100\n",
      "\u001b[1m1/1\u001b[0m \u001b[32m━━━━━━━━━━━━━━━━━━━━\u001b[0m\u001b[37m\u001b[0m \u001b[1m0s\u001b[0m 41ms/step - accuracy: 0.1905 - loss: 2.9059\n",
      "Epoch 12/100\n",
      "\u001b[1m1/1\u001b[0m \u001b[32m━━━━━━━━━━━━━━━━━━━━\u001b[0m\u001b[37m\u001b[0m \u001b[1m0s\u001b[0m 43ms/step - accuracy: 0.1905 - loss: 2.8964\n",
      "Epoch 13/100\n",
      "\u001b[1m1/1\u001b[0m \u001b[32m━━━━━━━━━━━━━━━━━━━━\u001b[0m\u001b[37m\u001b[0m \u001b[1m0s\u001b[0m 46ms/step - accuracy: 0.1905 - loss: 2.8867\n",
      "Epoch 14/100\n",
      "\u001b[1m1/1\u001b[0m \u001b[32m━━━━━━━━━━━━━━━━━━━━\u001b[0m\u001b[37m\u001b[0m \u001b[1m0s\u001b[0m 46ms/step - accuracy: 0.1905 - loss: 2.8767\n",
      "Epoch 15/100\n",
      "\u001b[1m1/1\u001b[0m \u001b[32m━━━━━━━━━━━━━━━━━━━━\u001b[0m\u001b[37m\u001b[0m \u001b[1m0s\u001b[0m 45ms/step - accuracy: 0.1905 - loss: 2.8663\n",
      "Epoch 16/100\n",
      "\u001b[1m1/1\u001b[0m \u001b[32m━━━━━━━━━━━━━━━━━━━━\u001b[0m\u001b[37m\u001b[0m \u001b[1m0s\u001b[0m 50ms/step - accuracy: 0.1905 - loss: 2.8556\n",
      "Epoch 17/100\n",
      "\u001b[1m1/1\u001b[0m \u001b[32m━━━━━━━━━━━━━━━━━━━━\u001b[0m\u001b[37m\u001b[0m \u001b[1m0s\u001b[0m 58ms/step - accuracy: 0.1905 - loss: 2.8446\n",
      "Epoch 18/100\n",
      "\u001b[1m1/1\u001b[0m \u001b[32m━━━━━━━━━━━━━━━━━━━━\u001b[0m\u001b[37m\u001b[0m \u001b[1m0s\u001b[0m 50ms/step - accuracy: 0.1905 - loss: 2.8333\n",
      "Epoch 19/100\n",
      "\u001b[1m1/1\u001b[0m \u001b[32m━━━━━━━━━━━━━━━━━━━━\u001b[0m\u001b[37m\u001b[0m \u001b[1m0s\u001b[0m 40ms/step - accuracy: 0.1905 - loss: 2.8217\n",
      "Epoch 20/100\n",
      "\u001b[1m1/1\u001b[0m \u001b[32m━━━━━━━━━━━━━━━━━━━━\u001b[0m\u001b[37m\u001b[0m \u001b[1m0s\u001b[0m 50ms/step - accuracy: 0.1905 - loss: 2.8097\n",
      "Epoch 21/100\n",
      "\u001b[1m1/1\u001b[0m \u001b[32m━━━━━━━━━━━━━━━━━━━━\u001b[0m\u001b[37m\u001b[0m \u001b[1m0s\u001b[0m 44ms/step - accuracy: 0.1905 - loss: 2.7975\n",
      "Epoch 22/100\n",
      "\u001b[1m1/1\u001b[0m \u001b[32m━━━━━━━━━━━━━━━━━━━━\u001b[0m\u001b[37m\u001b[0m \u001b[1m0s\u001b[0m 46ms/step - accuracy: 0.1905 - loss: 2.7849\n",
      "Epoch 23/100\n",
      "\u001b[1m1/1\u001b[0m \u001b[32m━━━━━━━━━━━━━━━━━━━━\u001b[0m\u001b[37m\u001b[0m \u001b[1m0s\u001b[0m 43ms/step - accuracy: 0.1905 - loss: 2.7721\n",
      "Epoch 24/100\n",
      "\u001b[1m1/1\u001b[0m \u001b[32m━━━━━━━━━━━━━━━━━━━━\u001b[0m\u001b[37m\u001b[0m \u001b[1m0s\u001b[0m 45ms/step - accuracy: 0.1905 - loss: 2.7590\n",
      "Epoch 25/100\n",
      "\u001b[1m1/1\u001b[0m \u001b[32m━━━━━━━━━━━━━━━━━━━━\u001b[0m\u001b[37m\u001b[0m \u001b[1m0s\u001b[0m 43ms/step - accuracy: 0.1905 - loss: 2.7457\n",
      "Epoch 26/100\n",
      "\u001b[1m1/1\u001b[0m \u001b[32m━━━━━━━━━━━━━━━━━━━━\u001b[0m\u001b[37m\u001b[0m \u001b[1m0s\u001b[0m 49ms/step - accuracy: 0.1905 - loss: 2.7321\n",
      "Epoch 27/100\n",
      "\u001b[1m1/1\u001b[0m \u001b[32m━━━━━━━━━━━━━━━━━━━━\u001b[0m\u001b[37m\u001b[0m \u001b[1m0s\u001b[0m 51ms/step - accuracy: 0.1905 - loss: 2.7183\n",
      "Epoch 28/100\n",
      "\u001b[1m1/1\u001b[0m \u001b[32m━━━━━━━━━━━━━━━━━━━━\u001b[0m\u001b[37m\u001b[0m \u001b[1m0s\u001b[0m 41ms/step - accuracy: 0.2381 - loss: 2.7043\n",
      "Epoch 29/100\n",
      "\u001b[1m1/1\u001b[0m \u001b[32m━━━━━━━━━━━━━━━━━━━━\u001b[0m\u001b[37m\u001b[0m \u001b[1m0s\u001b[0m 42ms/step - accuracy: 0.2381 - loss: 2.6901\n",
      "Epoch 30/100\n",
      "\u001b[1m1/1\u001b[0m \u001b[32m━━━━━━━━━━━━━━━━━━━━\u001b[0m\u001b[37m\u001b[0m \u001b[1m0s\u001b[0m 46ms/step - accuracy: 0.2381 - loss: 2.6756\n",
      "Epoch 31/100\n",
      "\u001b[1m1/1\u001b[0m \u001b[32m━━━━━━━━━━━━━━━━━━━━\u001b[0m\u001b[37m\u001b[0m \u001b[1m0s\u001b[0m 53ms/step - accuracy: 0.2381 - loss: 2.6610\n",
      "Epoch 32/100\n",
      "\u001b[1m1/1\u001b[0m \u001b[32m━━━━━━━━━━━━━━━━━━━━\u001b[0m\u001b[37m\u001b[0m \u001b[1m0s\u001b[0m 41ms/step - accuracy: 0.2381 - loss: 2.6462\n",
      "Epoch 33/100\n",
      "\u001b[1m1/1\u001b[0m \u001b[32m━━━━━━━━━━━━━━━━━━━━\u001b[0m\u001b[37m\u001b[0m \u001b[1m0s\u001b[0m 39ms/step - accuracy: 0.1905 - loss: 2.6312\n",
      "Epoch 34/100\n",
      "\u001b[1m1/1\u001b[0m \u001b[32m━━━━━━━━━━━━━━━━━━━━\u001b[0m\u001b[37m\u001b[0m \u001b[1m0s\u001b[0m 44ms/step - accuracy: 0.1429 - loss: 2.6159\n",
      "Epoch 35/100\n",
      "\u001b[1m1/1\u001b[0m \u001b[32m━━━━━━━━━━━━━━━━━━━━\u001b[0m\u001b[37m\u001b[0m \u001b[1m0s\u001b[0m 44ms/step - accuracy: 0.1429 - loss: 2.6005\n",
      "Epoch 36/100\n",
      "\u001b[1m1/1\u001b[0m \u001b[32m━━━━━━━━━━━━━━━━━━━━\u001b[0m\u001b[37m\u001b[0m \u001b[1m0s\u001b[0m 46ms/step - accuracy: 0.1429 - loss: 2.5847\n",
      "Epoch 37/100\n",
      "\u001b[1m1/1\u001b[0m \u001b[32m━━━━━━━━━━━━━━━━━━━━\u001b[0m\u001b[37m\u001b[0m \u001b[1m0s\u001b[0m 45ms/step - accuracy: 0.1429 - loss: 2.5687\n",
      "Epoch 38/100\n",
      "\u001b[1m1/1\u001b[0m \u001b[32m━━━━━━━━━━━━━━━━━━━━\u001b[0m\u001b[37m\u001b[0m \u001b[1m0s\u001b[0m 38ms/step - accuracy: 0.1429 - loss: 2.5524\n",
      "Epoch 39/100\n",
      "\u001b[1m1/1\u001b[0m \u001b[32m━━━━━━━━━━━━━━━━━━━━\u001b[0m\u001b[37m\u001b[0m \u001b[1m0s\u001b[0m 41ms/step - accuracy: 0.1429 - loss: 2.5356\n",
      "Epoch 40/100\n",
      "\u001b[1m1/1\u001b[0m \u001b[32m━━━━━━━━━━━━━━━━━━━━\u001b[0m\u001b[37m\u001b[0m \u001b[1m0s\u001b[0m 40ms/step - accuracy: 0.1429 - loss: 2.5185\n",
      "Epoch 41/100\n",
      "\u001b[1m1/1\u001b[0m \u001b[32m━━━━━━━━━━━━━━━━━━━━\u001b[0m\u001b[37m\u001b[0m \u001b[1m0s\u001b[0m 39ms/step - accuracy: 0.1429 - loss: 2.5009\n",
      "Epoch 42/100\n",
      "\u001b[1m1/1\u001b[0m \u001b[32m━━━━━━━━━━━━━━━━━━━━\u001b[0m\u001b[37m\u001b[0m \u001b[1m0s\u001b[0m 42ms/step - accuracy: 0.1429 - loss: 2.4827\n",
      "Epoch 43/100\n",
      "\u001b[1m1/1\u001b[0m \u001b[32m━━━━━━━━━━━━━━━━━━━━\u001b[0m\u001b[37m\u001b[0m \u001b[1m0s\u001b[0m 41ms/step - accuracy: 0.1429 - loss: 2.4641\n",
      "Epoch 44/100\n",
      "\u001b[1m1/1\u001b[0m \u001b[32m━━━━━━━━━━━━━━━━━━━━\u001b[0m\u001b[37m\u001b[0m \u001b[1m0s\u001b[0m 46ms/step - accuracy: 0.1429 - loss: 2.4448\n",
      "Epoch 45/100\n",
      "\u001b[1m1/1\u001b[0m \u001b[32m━━━━━━━━━━━━━━━━━━━━\u001b[0m\u001b[37m\u001b[0m \u001b[1m0s\u001b[0m 39ms/step - accuracy: 0.1429 - loss: 2.4250\n",
      "Epoch 46/100\n",
      "\u001b[1m1/1\u001b[0m \u001b[32m━━━━━━━━━━━━━━━━━━━━\u001b[0m\u001b[37m\u001b[0m \u001b[1m0s\u001b[0m 40ms/step - accuracy: 0.1429 - loss: 2.4047\n",
      "Epoch 47/100\n",
      "\u001b[1m1/1\u001b[0m \u001b[32m━━━━━━━━━━━━━━━━━━━━\u001b[0m\u001b[37m\u001b[0m \u001b[1m0s\u001b[0m 44ms/step - accuracy: 0.2381 - loss: 2.3837\n",
      "Epoch 48/100\n",
      "\u001b[1m1/1\u001b[0m \u001b[32m━━━━━━━━━━━━━━━━━━━━\u001b[0m\u001b[37m\u001b[0m \u001b[1m0s\u001b[0m 50ms/step - accuracy: 0.2857 - loss: 2.3622\n",
      "Epoch 49/100\n",
      "\u001b[1m1/1\u001b[0m \u001b[32m━━━━━━━━━━━━━━━━━━━━\u001b[0m\u001b[37m\u001b[0m \u001b[1m0s\u001b[0m 44ms/step - accuracy: 0.3333 - loss: 2.3402\n",
      "Epoch 50/100\n",
      "\u001b[1m1/1\u001b[0m \u001b[32m━━━━━━━━━━━━━━━━━━━━\u001b[0m\u001b[37m\u001b[0m \u001b[1m0s\u001b[0m 50ms/step - accuracy: 0.3333 - loss: 2.3177\n",
      "Epoch 51/100\n",
      "\u001b[1m1/1\u001b[0m \u001b[32m━━━━━━━━━━━━━━━━━━━━\u001b[0m\u001b[37m\u001b[0m \u001b[1m0s\u001b[0m 50ms/step - accuracy: 0.3333 - loss: 2.2947\n",
      "Epoch 52/100\n",
      "\u001b[1m1/1\u001b[0m \u001b[32m━━━━━━━━━━━━━━━━━━━━\u001b[0m\u001b[37m\u001b[0m \u001b[1m0s\u001b[0m 45ms/step - accuracy: 0.3810 - loss: 2.2713\n",
      "Epoch 53/100\n",
      "\u001b[1m1/1\u001b[0m \u001b[32m━━━━━━━━━━━━━━━━━━━━\u001b[0m\u001b[37m\u001b[0m \u001b[1m0s\u001b[0m 46ms/step - accuracy: 0.3810 - loss: 2.2474\n",
      "Epoch 54/100\n",
      "\u001b[1m1/1\u001b[0m \u001b[32m━━━━━━━━━━━━━━━━━━━━\u001b[0m\u001b[37m\u001b[0m \u001b[1m0s\u001b[0m 45ms/step - accuracy: 0.3810 - loss: 2.2232\n",
      "Epoch 55/100\n",
      "\u001b[1m1/1\u001b[0m \u001b[32m━━━━━━━━━━━━━━━━━━━━\u001b[0m\u001b[37m\u001b[0m \u001b[1m0s\u001b[0m 48ms/step - accuracy: 0.3333 - loss: 2.1987\n",
      "Epoch 56/100\n",
      "\u001b[1m1/1\u001b[0m \u001b[32m━━━━━━━━━━━━━━━━━━━━\u001b[0m\u001b[37m\u001b[0m \u001b[1m0s\u001b[0m 51ms/step - accuracy: 0.3333 - loss: 2.1738\n",
      "Epoch 57/100\n",
      "\u001b[1m1/1\u001b[0m \u001b[32m━━━━━━━━━━━━━━━━━━━━\u001b[0m\u001b[37m\u001b[0m \u001b[1m0s\u001b[0m 42ms/step - accuracy: 0.3333 - loss: 2.1486\n",
      "Epoch 58/100\n",
      "\u001b[1m1/1\u001b[0m \u001b[32m━━━━━━━━━━━━━━━━━━━━\u001b[0m\u001b[37m\u001b[0m \u001b[1m0s\u001b[0m 40ms/step - accuracy: 0.3333 - loss: 2.1231\n",
      "Epoch 59/100\n",
      "\u001b[1m1/1\u001b[0m \u001b[32m━━━━━━━━━━━━━━━━━━━━\u001b[0m\u001b[37m\u001b[0m \u001b[1m0s\u001b[0m 40ms/step - accuracy: 0.3333 - loss: 2.0975\n",
      "Epoch 60/100\n",
      "\u001b[1m1/1\u001b[0m \u001b[32m━━━━━━━━━━━━━━━━━━━━\u001b[0m\u001b[37m\u001b[0m \u001b[1m0s\u001b[0m 44ms/step - accuracy: 0.3333 - loss: 2.0717\n",
      "Epoch 61/100\n",
      "\u001b[1m1/1\u001b[0m \u001b[32m━━━━━━━━━━━━━━━━━━━━\u001b[0m\u001b[37m\u001b[0m \u001b[1m0s\u001b[0m 47ms/step - accuracy: 0.3810 - loss: 2.0457\n",
      "Epoch 62/100\n",
      "\u001b[1m1/1\u001b[0m \u001b[32m━━━━━━━━━━━━━━━━━━━━\u001b[0m\u001b[37m\u001b[0m \u001b[1m0s\u001b[0m 45ms/step - accuracy: 0.4762 - loss: 2.0196\n",
      "Epoch 63/100\n",
      "\u001b[1m1/1\u001b[0m \u001b[32m━━━━━━━━━━━━━━━━━━━━\u001b[0m\u001b[37m\u001b[0m \u001b[1m0s\u001b[0m 44ms/step - accuracy: 0.4762 - loss: 1.9935\n",
      "Epoch 64/100\n",
      "\u001b[1m1/1\u001b[0m \u001b[32m━━━━━━━━━━━━━━━━━━━━\u001b[0m\u001b[37m\u001b[0m \u001b[1m0s\u001b[0m 42ms/step - accuracy: 0.4762 - loss: 1.9673\n",
      "Epoch 65/100\n",
      "\u001b[1m1/1\u001b[0m \u001b[32m━━━━━━━━━━━━━━━━━━━━\u001b[0m\u001b[37m\u001b[0m \u001b[1m0s\u001b[0m 44ms/step - accuracy: 0.4762 - loss: 1.9411\n",
      "Epoch 66/100\n",
      "\u001b[1m1/1\u001b[0m \u001b[32m━━━━━━━━━━━━━━━━━━━━\u001b[0m\u001b[37m\u001b[0m \u001b[1m0s\u001b[0m 44ms/step - accuracy: 0.4286 - loss: 1.9150\n",
      "Epoch 67/100\n",
      "\u001b[1m1/1\u001b[0m \u001b[32m━━━━━━━━━━━━━━━━━━━━\u001b[0m\u001b[37m\u001b[0m \u001b[1m0s\u001b[0m 40ms/step - accuracy: 0.4762 - loss: 1.8889\n",
      "Epoch 68/100\n",
      "\u001b[1m1/1\u001b[0m \u001b[32m━━━━━━━━━━━━━━━━━━━━\u001b[0m\u001b[37m\u001b[0m \u001b[1m0s\u001b[0m 52ms/step - accuracy: 0.4762 - loss: 1.8628\n",
      "Epoch 69/100\n",
      "\u001b[1m1/1\u001b[0m \u001b[32m━━━━━━━━━━━━━━━━━━━━\u001b[0m\u001b[37m\u001b[0m \u001b[1m0s\u001b[0m 46ms/step - accuracy: 0.5238 - loss: 1.8369\n",
      "Epoch 70/100\n",
      "\u001b[1m1/1\u001b[0m \u001b[32m━━━━━━━━━━━━━━━━━━━━\u001b[0m\u001b[37m\u001b[0m \u001b[1m0s\u001b[0m 43ms/step - accuracy: 0.5238 - loss: 1.8110\n",
      "Epoch 71/100\n",
      "\u001b[1m1/1\u001b[0m \u001b[32m━━━━━━━━━━━━━━━━━━━━\u001b[0m\u001b[37m\u001b[0m \u001b[1m0s\u001b[0m 40ms/step - accuracy: 0.6190 - loss: 1.7853\n",
      "Epoch 72/100\n",
      "\u001b[1m1/1\u001b[0m \u001b[32m━━━━━━━━━━━━━━━━━━━━\u001b[0m\u001b[37m\u001b[0m \u001b[1m0s\u001b[0m 40ms/step - accuracy: 0.6190 - loss: 1.7597\n",
      "Epoch 73/100\n",
      "\u001b[1m1/1\u001b[0m \u001b[32m━━━━━━━━━━━━━━━━━━━━\u001b[0m\u001b[37m\u001b[0m \u001b[1m0s\u001b[0m 41ms/step - accuracy: 0.6190 - loss: 1.7342\n",
      "Epoch 74/100\n",
      "\u001b[1m1/1\u001b[0m \u001b[32m━━━━━━━━━━━━━━━━━━━━\u001b[0m\u001b[37m\u001b[0m \u001b[1m0s\u001b[0m 43ms/step - accuracy: 0.6190 - loss: 1.7088\n",
      "Epoch 75/100\n",
      "\u001b[1m1/1\u001b[0m \u001b[32m━━━━━━━━━━━━━━━━━━━━\u001b[0m\u001b[37m\u001b[0m \u001b[1m0s\u001b[0m 43ms/step - accuracy: 0.6190 - loss: 1.6836\n",
      "Epoch 76/100\n",
      "\u001b[1m1/1\u001b[0m \u001b[32m━━━━━━━━━━━━━━━━━━━━\u001b[0m\u001b[37m\u001b[0m \u001b[1m0s\u001b[0m 41ms/step - accuracy: 0.6190 - loss: 1.6586\n",
      "Epoch 77/100\n",
      "\u001b[1m1/1\u001b[0m \u001b[32m━━━━━━━━━━━━━━━━━━━━\u001b[0m\u001b[37m\u001b[0m \u001b[1m0s\u001b[0m 40ms/step - accuracy: 0.6190 - loss: 1.6337\n",
      "Epoch 78/100\n",
      "\u001b[1m1/1\u001b[0m \u001b[32m━━━━━━━━━━━━━━━━━━━━\u001b[0m\u001b[37m\u001b[0m \u001b[1m0s\u001b[0m 46ms/step - accuracy: 0.6190 - loss: 1.6090\n",
      "Epoch 79/100\n",
      "\u001b[1m1/1\u001b[0m \u001b[32m━━━━━━━━━━━━━━━━━━━━\u001b[0m\u001b[37m\u001b[0m \u001b[1m0s\u001b[0m 47ms/step - accuracy: 0.6190 - loss: 1.5845\n",
      "Epoch 80/100\n",
      "\u001b[1m1/1\u001b[0m \u001b[32m━━━━━━━━━━━━━━━━━━━━\u001b[0m\u001b[37m\u001b[0m \u001b[1m0s\u001b[0m 44ms/step - accuracy: 0.7143 - loss: 1.5601\n",
      "Epoch 81/100\n",
      "\u001b[1m1/1\u001b[0m \u001b[32m━━━━━━━━━━━━━━━━━━━━\u001b[0m\u001b[37m\u001b[0m \u001b[1m0s\u001b[0m 37ms/step - accuracy: 0.7619 - loss: 1.5360\n",
      "Epoch 82/100\n",
      "\u001b[1m1/1\u001b[0m \u001b[32m━━━━━━━━━━━━━━━━━━━━\u001b[0m\u001b[37m\u001b[0m \u001b[1m0s\u001b[0m 42ms/step - accuracy: 0.7619 - loss: 1.5121\n",
      "Epoch 83/100\n",
      "\u001b[1m1/1\u001b[0m \u001b[32m━━━━━━━━━━━━━━━━━━━━\u001b[0m\u001b[37m\u001b[0m \u001b[1m0s\u001b[0m 43ms/step - accuracy: 0.7619 - loss: 1.4885\n",
      "Epoch 84/100\n",
      "\u001b[1m1/1\u001b[0m \u001b[32m━━━━━━━━━━━━━━━━━━━━\u001b[0m\u001b[37m\u001b[0m \u001b[1m0s\u001b[0m 41ms/step - accuracy: 0.7619 - loss: 1.4650\n",
      "Epoch 85/100\n",
      "\u001b[1m1/1\u001b[0m \u001b[32m━━━━━━━━━━━━━━━━━━━━\u001b[0m\u001b[37m\u001b[0m \u001b[1m0s\u001b[0m 38ms/step - accuracy: 0.7619 - loss: 1.4418\n",
      "Epoch 86/100\n",
      "\u001b[1m1/1\u001b[0m \u001b[32m━━━━━━━━━━━━━━━━━━━━\u001b[0m\u001b[37m\u001b[0m \u001b[1m0s\u001b[0m 39ms/step - accuracy: 0.7619 - loss: 1.4189\n",
      "Epoch 87/100\n",
      "\u001b[1m1/1\u001b[0m \u001b[32m━━━━━━━━━━━━━━━━━━━━\u001b[0m\u001b[37m\u001b[0m \u001b[1m0s\u001b[0m 43ms/step - accuracy: 0.7143 - loss: 1.3962\n",
      "Epoch 88/100\n",
      "\u001b[1m1/1\u001b[0m \u001b[32m━━━━━━━━━━━━━━━━━━━━\u001b[0m\u001b[37m\u001b[0m \u001b[1m0s\u001b[0m 39ms/step - accuracy: 0.7143 - loss: 1.3737\n",
      "Epoch 89/100\n",
      "\u001b[1m1/1\u001b[0m \u001b[32m━━━━━━━━━━━━━━━━━━━━\u001b[0m\u001b[37m\u001b[0m \u001b[1m0s\u001b[0m 40ms/step - accuracy: 0.7143 - loss: 1.3516\n",
      "Epoch 90/100\n",
      "\u001b[1m1/1\u001b[0m \u001b[32m━━━━━━━━━━━━━━━━━━━━\u001b[0m\u001b[37m\u001b[0m \u001b[1m0s\u001b[0m 43ms/step - accuracy: 0.7143 - loss: 1.3297\n",
      "Epoch 91/100\n",
      "\u001b[1m1/1\u001b[0m \u001b[32m━━━━━━━━━━━━━━━━━━━━\u001b[0m\u001b[37m\u001b[0m \u001b[1m0s\u001b[0m 43ms/step - accuracy: 0.7143 - loss: 1.3080\n",
      "Epoch 92/100\n",
      "\u001b[1m1/1\u001b[0m \u001b[32m━━━━━━━━━━━━━━━━━━━━\u001b[0m\u001b[37m\u001b[0m \u001b[1m0s\u001b[0m 67ms/step - accuracy: 0.7143 - loss: 1.2867\n",
      "Epoch 93/100\n",
      "\u001b[1m1/1\u001b[0m \u001b[32m━━━━━━━━━━━━━━━━━━━━\u001b[0m\u001b[37m\u001b[0m \u001b[1m0s\u001b[0m 40ms/step - accuracy: 0.7619 - loss: 1.2656\n",
      "Epoch 94/100\n",
      "\u001b[1m1/1\u001b[0m \u001b[32m━━━━━━━━━━━━━━━━━━━━\u001b[0m\u001b[37m\u001b[0m \u001b[1m0s\u001b[0m 42ms/step - accuracy: 0.7619 - loss: 1.2448\n",
      "Epoch 95/100\n",
      "\u001b[1m1/1\u001b[0m \u001b[32m━━━━━━━━━━━━━━━━━━━━\u001b[0m\u001b[37m\u001b[0m \u001b[1m0s\u001b[0m 43ms/step - accuracy: 0.7619 - loss: 1.2243\n",
      "Epoch 96/100\n",
      "\u001b[1m1/1\u001b[0m \u001b[32m━━━━━━━━━━━━━━━━━━━━\u001b[0m\u001b[37m\u001b[0m \u001b[1m0s\u001b[0m 39ms/step - accuracy: 0.8095 - loss: 1.2041\n",
      "Epoch 97/100\n",
      "\u001b[1m1/1\u001b[0m \u001b[32m━━━━━━━━━━━━━━━━━━━━\u001b[0m\u001b[37m\u001b[0m \u001b[1m0s\u001b[0m 38ms/step - accuracy: 0.8095 - loss: 1.1842\n",
      "Epoch 98/100\n",
      "\u001b[1m1/1\u001b[0m \u001b[32m━━━━━━━━━━━━━━━━━━━━\u001b[0m\u001b[37m\u001b[0m \u001b[1m0s\u001b[0m 43ms/step - accuracy: 0.8095 - loss: 1.1645\n",
      "Epoch 99/100\n",
      "\u001b[1m1/1\u001b[0m \u001b[32m━━━━━━━━━━━━━━━━━━━━\u001b[0m\u001b[37m\u001b[0m \u001b[1m0s\u001b[0m 44ms/step - accuracy: 0.8095 - loss: 1.1452\n",
      "Epoch 100/100\n",
      "\u001b[1m1/1\u001b[0m \u001b[32m━━━━━━━━━━━━━━━━━━━━\u001b[0m\u001b[37m\u001b[0m \u001b[1m0s\u001b[0m 41ms/step - accuracy: 0.8095 - loss: 1.1261\n",
      "Treinamento concluido!\n"
     ]
    }
   ],
   "source": [
    "# Treinando o modelo\n",
    "print(\"\\nIniciando o treinamento do modelo RNN...\")\n",
    "modelo_rnn.fit(entradas_X_padded, saidas_Y_one_hot, epochs=100, verbose=1)\n",
    "    # epochs: quantas vezes o modelo verá todo o conjunto de dados\n",
    "    # verbose: 1 para mostrar o proggresso do treinamento\n",
    "print(\"Treinamento concluido!\")"
   ]
  },
  {
   "cell_type": "markdown",
   "metadata": {
    "id": "lRb52ef3vfse"
   },
   "source": [
    "### Passo 5: Usar o Modelo para Previsão"
   ]
  },
  {
   "cell_type": "code",
   "execution_count": 13,
   "metadata": {
    "colab": {
     "base_uri": "https://localhost:8080/"
    },
    "executionInfo": {
     "elapsed": 737,
     "status": "ok",
     "timestamp": 1749860246081,
     "user": {
      "displayName": "Victor Myke Gracioli Rocha",
      "userId": "18280186660482340267"
     },
     "user_tz": 180
    },
    "id": "KTIQdpiRvl72",
    "outputId": "e27e8500-ac19-4630-f2bb-ddd77af396d0"
   },
   "outputs": [
    {
     "name": "stdout",
     "output_type": "stream",
     "text": [
      "\n",
      "--- Testando o Modelo RNN ---\n",
      "Texto: 'eu gosto de' -> Próxima palavra prevista: 'programar'\n",
      "Texto: 'python é uma' -> Próxima palavra prevista: 'linguagem'\n",
      "Texto: 'programar é divertido' -> Próxima palavra prevista: 'com'\n",
      "Texto: 'aprenda python e' -> Próxima palavra prevista: 'seja'\n",
      "Texto: 'o sol brilha no' -> Próxima palavra prevista: 'de'\n"
     ]
    }
   ],
   "source": [
    "# 1. Função de Previsão:\n",
    "def prever_proxima_palavra(modelo, tokenizer, max_seq_len, texto_base):\n",
    "  \"\"\"\n",
    "  Prevê a próxima palavra dado um texto base.\n",
    "  \"\"\"\n",
    "  # Converter o texto base para sequência numárica\n",
    "  sequencia_numerica = tokenizer.texts_to_sequences([texto_base])[0]\n",
    "\n",
    "\n",
    "  # Padronizar o comprimento da sequência de entrada (precisa ter o mesmo formato que p treinamento)\n",
    "  # Atenção: max_seq_len deve ser o comprimento que as \"entradas\" foram pad_sequenciadas\n",
    "  sequencia_padded = pad_sequences([sequencia_numerica], maxlen=max_seq_len, padding='pre')\n",
    "\n",
    "  # Fazer a previsão\n",
    "  previsao_probabilidades = modelo.predict(sequencia_padded, verbose=0)[0]\n",
    "\n",
    "  # Obter o índice da palavra com a maior probabilidade\n",
    "  indice_palavra_prevista = np.argmax(previsao_probabilidades)\n",
    "\n",
    "  # Converter o índice de volta para a palavra\n",
    "  for palavra, indice in tokenizer.word_index.items():\n",
    "    if indice == indice_palavra_prevista:\n",
    "      return palavra\n",
    "  return None # Caso a palavra não seja encontrada (improvável com o vocabulário ajustado)\n",
    "\n",
    "# Comprimento de entrada esperando pelo modelo\n",
    "# entradas_x_padded.shape[1] é o maxlen que usamos no pad_sequences para x\n",
    "comprimento_entrada_modelo = entradas_X_padded.shape[1]\n",
    "\n",
    "# Testar o modelo com novas frases\n",
    "print(\"\\n--- Testando o Modelo RNN ---\")\n",
    "\n",
    "texto_teste_1 = \"eu gosto de\"\n",
    "proxima_1 = prever_proxima_palavra(modelo_rnn, tokenizer, comprimento_entrada_modelo, texto_teste_1)\n",
    "print(f\"Texto: '{texto_teste_1}' -> Próxima palavra prevista: '{proxima_1}'\")\n",
    "\n",
    "texto_teste_2 = \"python é uma\"\n",
    "proxima_2 = prever_proxima_palavra(modelo_rnn, tokenizer, comprimento_entrada_modelo, texto_teste_2)\n",
    "print(f\"Texto: '{texto_teste_2}' -> Próxima palavra prevista: '{proxima_2}'\")\n",
    "\n",
    "texto_teste_3 = \"programar é divertido\"\n",
    "proxima_3 = prever_proxima_palavra(modelo_rnn, tokenizer, comprimento_entrada_modelo, texto_teste_3)\n",
    "print(f\"Texto: '{texto_teste_3}' -> Próxima palavra prevista: '{proxima_3}'\")\n",
    "\n",
    "texto_teste_4 = \"aprenda python e\"\n",
    "proxima_4 = prever_proxima_palavra(modelo_rnn, tokenizer, comprimento_entrada_modelo, texto_teste_4)\n",
    "print(f\"Texto: '{texto_teste_4}' -> Próxima palavra prevista: '{proxima_4}'\")\n",
    "\n",
    "# Exemplo com palavra fora do vocabulário (ou sequência que o modelo nunca viu antes)\n",
    "texto_teste_5 = \"o sol brilha no\"\n",
    "proxima_5 = prever_proxima_palavra(modelo_rnn, tokenizer, comprimento_entrada_modelo, texto_teste_5)\n",
    "print(f\"Texto: '{texto_teste_5}' -> Próxima palavra prevista: '{proxima_5}'\")"
   ]
  },
  {
   "cell_type": "markdown",
   "metadata": {
    "id": "Y_47id0SFxe6"
   },
   "source": [
    "## Implementação 2: Modelo de Rede Neural Rede Long Short-Term Memory"
   ]
  },
  {
   "cell_type": "markdown",
   "metadata": {
    "id": "q2-PIqToGDyS"
   },
   "source": [
    "### Passo 1: Configuração do Ambiente e Importação de Bibliotecas"
   ]
  },
  {
   "cell_type": "code",
   "execution_count": 14,
   "metadata": {
    "colab": {
     "base_uri": "https://localhost:8080/"
    },
    "executionInfo": {
     "elapsed": 2148,
     "status": "ok",
     "timestamp": 1749860415124,
     "user": {
      "displayName": "Victor Myke Gracioli Rocha",
      "userId": "18280186660482340267"
     },
     "user_tz": 180
    },
    "id": "bjYs9pZLAEkr",
    "outputId": "d3711486-e161-47e5-9545-6b2e3c96649f"
   },
   "outputs": [
    {
     "name": "stdout",
     "output_type": "stream",
     "text": [
      "Bibliotecas importadas com sucesso!\n"
     ]
    }
   ],
   "source": [
    "# Importar bibliotecas necessárias\n",
    "import numpy as np\n",
    "import tensorflow as tf\n",
    "from tensorflow.keras.models import Sequential\n",
    "from tensorflow.keras.layers import Embedding, LSTM, Dense\n",
    "from tensorflow.keras.preprocessing.text import Tokenizer\n",
    "from tensorflow.keras.preprocessing.sequence import pad_sequences\n",
    "from sklearn.model_selection import train_test_split\n",
    "from sklearn.metrics import classification_report, confusion_matrix\n",
    "import matplotlib.pyplot as plt\n",
    "import seaborn as sns\n",
    "\n",
    "print(\"Bibliotecas importadas com sucesso!\")"
   ]
  },
  {
   "cell_type": "markdown",
   "metadata": {
    "id": "QPPYQOcfHJPS"
   },
   "source": [
    "O que tem de novo aqui?\n",
    "\n",
    "*   LSTM: A camada de Rede Long Short-Term Memory.\n",
    "*   train_test_split (sklearn): Paradividiro dataset em conjuntos de treinamentoe teste.\n",
    "*   classification_report, confusion_matrix (sklearn): Para avaliar o desempenho do modelo.\n",
    "*   matplotlib.pyplot, seaborn: Para visualização dos resultados."
   ]
  },
  {
   "cell_type": "markdown",
   "metadata": {
    "id": "jgDWCrKbH_eJ"
   },
   "source": [
    "### Passo 2: Preparação do Conjunto de Dados de Análise de Sentimentos"
   ]
  },
  {
   "cell_type": "code",
   "execution_count": 15,
   "metadata": {
    "colab": {
     "base_uri": "https://localhost:8080/"
    },
    "executionInfo": {
     "elapsed": 50,
     "status": "ok",
     "timestamp": 1749860582643,
     "user": {
      "displayName": "Victor Myke Gracioli Rocha",
      "userId": "18280186660482340267"
     },
     "user_tz": 180
    },
    "id": "on7jEnQjIW7Z",
    "outputId": "105a5adc-75cc-420d-a7b8-c2d4e1e372c7"
   },
   "outputs": [
    {
     "name": "stdout",
     "output_type": "stream",
     "text": [
      "Total de frases: 15\n",
      "Exemplo de textos: ['este filme é ótimo e divertido', 'eu adorei o livro, muito bom', 'gostei muito da atuação dos atores']\n",
      "Exemplo de sentimentos: ['positivo', 'positivo', 'positivo']\n"
     ]
    }
   ],
   "source": [
    "# Definir o Conjunto de Dados (Frames e Rótulos) para análise de sentimentos\n",
    "dados_sentimento = [\n",
    "    (\"este filme é ótimo e divertido\",\"positivo\"),\n",
    "    (\"eu adorei o livro, muito bom\",\"positivo\"),\n",
    "    (\"gostei muito da atuação dos atores\",\"positivo\"),\n",
    "    (\"o roteiro é fraco e chato\",\"negativo\"),\n",
    "    (\"não recomendo este péssimo produto\",\"negativo\"),\n",
    "    (\"uma perda de tempo horrível\",\"negativo\"),\n",
    "    (\"ótimo trabalho, parabéns\",\"positivo\"),\n",
    "    (\"terrível experiência, nunca mais\",\"negativo\"),\n",
    "    (\"excelente serviço, muito eficiente\",\"positivo\"),\n",
    "    (\"que decepção, muito ruim\",\"negativo\"),\n",
    "    (\"aprendizagem de máquina é fascinante\",\"positivo\"),\n",
    "    (\"pln é um campo interessante\",\"positivo\"),\n",
    "    (\"este software travou várias vezes\",\"negativo\"),\n",
    "    (\"a interface é confusa e difícil\",\"negativo\"),\n",
    "    (\"o aplicativo é super útil e rápido\",\"positivo\"),\n",
    "]\n",
    "\n",
    "textos = [dado[0] for dado in dados_sentimento]\n",
    "sentimentos = [dado[1] for dado in dados_sentimento]\n",
    "\n",
    "print(f\"Total de frases: {len(textos)}\")\n",
    "print(f\"Exemplo de textos: {textos[:3]}\")\n",
    "print(f\"Exemplo de sentimentos: {sentimentos[:3]}\")"
   ]
  },
  {
   "cell_type": "code",
   "execution_count": 16,
   "metadata": {
    "colab": {
     "base_uri": "https://localhost:8080/"
    },
    "executionInfo": {
     "elapsed": 9,
     "status": "ok",
     "timestamp": 1749860737076,
     "user": {
      "displayName": "Victor Myke Gracioli Rocha",
      "userId": "18280186660482340267"
     },
     "user_tz": 180
    },
    "id": "0qKDlyz3RqSZ",
    "outputId": "801f0ea0-bd79-45cb-e651-3a28871092b5"
   },
   "outputs": [
    {
     "name": "stdout",
     "output_type": "stream",
     "text": [
      "\n",
      "Sentimentos mapeados para números: [1 1 1 0 0 0 1 0 1 0 1 1 0 0 1]\n"
     ]
    }
   ],
   "source": [
    "# Mapear Sentimentos para Números: converter \"positivo\" e \"negativo\" para 0 e 1\n",
    "mapeamento_sentimento = {'negativo': 0, 'positivo':1}\n",
    "rotulos_numericos = np.array([mapeamento_sentimento[s] for s in sentimentos])\n",
    "\n",
    "print(f\"\\nSentimentos mapeados para números: {rotulos_numericos}\")"
   ]
  },
  {
   "cell_type": "code",
   "execution_count": 17,
   "metadata": {
    "colab": {
     "base_uri": "https://localhost:8080/"
    },
    "executionInfo": {
     "elapsed": 30,
     "status": "ok",
     "timestamp": 1749860745403,
     "user": {
      "displayName": "Victor Myke Gracioli Rocha",
      "userId": "18280186660482340267"
     },
     "user_tz": 180
    },
    "id": "C-bWESbQRt7A",
    "outputId": "ab2295a9-f20f-407a-bc83-917f1adb532e"
   },
   "outputs": [
    {
     "name": "stdout",
     "output_type": "stream",
     "text": [
      "\n",
      "Vocabulário (palavra: índice): {'<unk>': 1, 'é': 2, 'e': 3, 'muito': 4, 'este': 5, 'o': 6, 'ótimo': 7, 'de': 8, 'filme': 9, 'divertido': 10, 'eu': 11, 'adorei': 12, 'livro': 13, 'bom': 14, 'gostei': 15, 'da': 16, 'atuação': 17, 'dos': 18, 'atores': 19, 'roteiro': 20, 'fraco': 21, 'chato': 22, 'não': 23, 'recomendo': 24, 'péssimo': 25, 'produto': 26, 'uma': 27, 'perda': 28, 'tempo': 29, 'horrível': 30, 'trabalho': 31, 'parabéns': 32, 'terrível': 33, 'experiência': 34, 'nunca': 35, 'mais': 36, 'excelente': 37, 'serviço': 38, 'eficiente': 39, 'que': 40, 'decepção': 41, 'ruim': 42, 'aprendizagem': 43, 'máquina': 44, 'fascinante': 45, 'pln': 46, 'um': 47, 'campo': 48, 'interessante': 49, 'software': 50, 'travou': 51, 'várias': 52, 'vezes': 53, 'a': 54, 'interface': 55, 'confusa': 56, 'difícil': 57, 'aplicativo': 58, 'super': 59, 'útil': 60, 'rápido': 61}\n",
      "Sequências numéricas das palavras: [[5, 9, 2, 7, 3, 10], [11, 12, 6, 13, 4, 14], [15, 4, 16, 17, 18, 19], [6, 20, 2, 21, 3, 22], [23, 24, 5, 25, 26], [27, 28, 8, 29, 30], [7, 31, 32], [33, 34, 35, 36], [37, 38, 4, 39], [40, 41, 4, 42], [43, 8, 44, 2, 45], [46, 2, 47, 48, 49], [5, 50, 51, 52, 53], [54, 55, 2, 56, 3, 57], [6, 58, 2, 59, 60, 3, 61]]\n",
      "Total de palavras no vocabulário: 62\n",
      "\n",
      "Comprimento máximo das sequências: 7\n",
      "Sequências após padding: \n",
      "[[ 5  9  2  7  3 10  0]\n",
      " [11 12  6 13  4 14  0]\n",
      " [15  4 16 17 18 19  0]\n",
      " [ 6 20  2 21  3 22  0]\n",
      " [23 24  5 25 26  0  0]\n",
      " [27 28  8 29 30  0  0]\n",
      " [ 7 31 32  0  0  0  0]\n",
      " [33 34 35 36  0  0  0]\n",
      " [37 38  4 39  0  0  0]\n",
      " [40 41  4 42  0  0  0]\n",
      " [43  8 44  2 45  0  0]\n",
      " [46  2 47 48 49  0  0]\n",
      " [ 5 50 51 52 53  0  0]\n",
      " [54 55  2 56  3 57  0]\n",
      " [ 6 58  2 59 60  3 61]]\n",
      "\n",
      "Shape de x_treino: (12, 7)\n",
      "Shape de x_teste: (3, 7)\n",
      "Shape de y_treino: (12,)\n",
      "Shape de y_teste: (3,)\n"
     ]
    }
   ],
   "source": [
    "# Tokenização de Texto\n",
    "tokenizer = Tokenizer(num_words=None, oov_token=\"<unk>\")\n",
    "  # num_words=None para pegar todo o vacubulário\n",
    "  # oov_token para palavras desconhecidas\n",
    "tokenizer.fit_on_texts(textos)\n",
    "sequencias_numericas = tokenizer.texts_to_sequences(textos)\n",
    "\n",
    "total_palavras_vocab = len(tokenizer.word_index) + 1 # +1 para o 0 de padding/oov\n",
    "\n",
    "print(f\"\\nVocabulário (palavra: índice): {tokenizer.word_index}\")\n",
    "print(f\"Sequências numéricas das palavras: {sequencias_numericas}\")\n",
    "print(f\"Total de palavras no vocabulário: {total_palavras_vocab}\")\n",
    "\n",
    "# Padronizar o comprimento das sequências\n",
    "# Encontrar o comprimento da frase mais longa para padronizar\n",
    "max_len = max(len(s) for s in sequencias_numericas)\n",
    "print(f\"\\nComprimento máximo das sequências: {max_len}\")\n",
    "\n",
    "sequencias_padded = pad_sequences(sequencias_numericas, maxlen=max_len, padding='post') # 'post' para adicionar zeros no final\n",
    "print(f\"Sequências após padding: \\n{sequencias_padded}\")\n",
    "\n",
    "# Dividir os dados em conjuntos de treinamento e teste\n",
    "x_treino, x_teste, y_treino, y_teste = train_test_split(\n",
    "    sequencias_padded, rotulos_numericos, test_size=0.2, random_state=42,stratify=rotulos_numericos\n",
    "    )\n",
    "\n",
    "print(f\"\\nShape de x_treino: {x_treino.shape}\")\n",
    "print(f\"Shape de x_teste: {x_teste.shape}\")\n",
    "print(f\"Shape de y_treino: {y_treino.shape}\")\n",
    "print(f\"Shape de y_teste: {y_teste.shape}\")"
   ]
  },
  {
   "cell_type": "markdown",
   "metadata": {
    "id": "KojbdT_dm4G8"
   },
   "source": [
    "### Passo 3: Construção do Modelo LSTM"
   ]
  },
  {
   "cell_type": "code",
   "execution_count": 18,
   "metadata": {
    "colab": {
     "base_uri": "https://localhost:8080/",
     "height": 280
    },
    "executionInfo": {
     "elapsed": 122,
     "status": "ok",
     "timestamp": 1749860808360,
     "user": {
      "displayName": "Victor Myke Gracioli Rocha",
      "userId": "18280186660482340267"
     },
     "user_tz": 180
    },
    "id": "2AJAzQGGl85t",
    "outputId": "2818a907-9f28-4d57-d118-fcd815cb531d"
   },
   "outputs": [
    {
     "name": "stderr",
     "output_type": "stream",
     "text": [
      "d:\\Users\\antho\\AppData\\Local\\Programs\\Python\\Python312\\Lib\\site-packages\\keras\\src\\layers\\core\\embedding.py:97: UserWarning: Argument `input_length` is deprecated. Just remove it.\n",
      "  warnings.warn(\n"
     ]
    },
    {
     "data": {
      "text/html": [
       "<pre style=\"white-space:pre;overflow-x:auto;line-height:normal;font-family:Menlo,'DejaVu Sans Mono',consolas,'Courier New',monospace\"><span style=\"font-weight: bold\">Model: \"sequential_1\"</span>\n",
       "</pre>\n"
      ],
      "text/plain": [
       "\u001b[1mModel: \"sequential_1\"\u001b[0m\n"
      ]
     },
     "metadata": {},
     "output_type": "display_data"
    },
    {
     "data": {
      "text/html": [
       "<pre style=\"white-space:pre;overflow-x:auto;line-height:normal;font-family:Menlo,'DejaVu Sans Mono',consolas,'Courier New',monospace\">┏━━━━━━━━━━━━━━━━━━━━━━━━━━━━━━━━━┳━━━━━━━━━━━━━━━━━━━━━━━━┳━━━━━━━━━━━━━━━┓\n",
       "┃<span style=\"font-weight: bold\"> Layer (type)                    </span>┃<span style=\"font-weight: bold\"> Output Shape           </span>┃<span style=\"font-weight: bold\">       Param # </span>┃\n",
       "┡━━━━━━━━━━━━━━━━━━━━━━━━━━━━━━━━━╇━━━━━━━━━━━━━━━━━━━━━━━━╇━━━━━━━━━━━━━━━┩\n",
       "│ embedding_1 (<span style=\"color: #0087ff; text-decoration-color: #0087ff\">Embedding</span>)         │ ?                      │   <span style=\"color: #00af00; text-decoration-color: #00af00\">0</span> (unbuilt) │\n",
       "├─────────────────────────────────┼────────────────────────┼───────────────┤\n",
       "│ lstm (<span style=\"color: #0087ff; text-decoration-color: #0087ff\">LSTM</span>)                     │ ?                      │   <span style=\"color: #00af00; text-decoration-color: #00af00\">0</span> (unbuilt) │\n",
       "├─────────────────────────────────┼────────────────────────┼───────────────┤\n",
       "│ dense_1 (<span style=\"color: #0087ff; text-decoration-color: #0087ff\">Dense</span>)                 │ ?                      │   <span style=\"color: #00af00; text-decoration-color: #00af00\">0</span> (unbuilt) │\n",
       "└─────────────────────────────────┴────────────────────────┴───────────────┘\n",
       "</pre>\n"
      ],
      "text/plain": [
       "┏━━━━━━━━━━━━━━━━━━━━━━━━━━━━━━━━━┳━━━━━━━━━━━━━━━━━━━━━━━━┳━━━━━━━━━━━━━━━┓\n",
       "┃\u001b[1m \u001b[0m\u001b[1mLayer (type)                   \u001b[0m\u001b[1m \u001b[0m┃\u001b[1m \u001b[0m\u001b[1mOutput Shape          \u001b[0m\u001b[1m \u001b[0m┃\u001b[1m \u001b[0m\u001b[1m      Param #\u001b[0m\u001b[1m \u001b[0m┃\n",
       "┡━━━━━━━━━━━━━━━━━━━━━━━━━━━━━━━━━╇━━━━━━━━━━━━━━━━━━━━━━━━╇━━━━━━━━━━━━━━━┩\n",
       "│ embedding_1 (\u001b[38;5;33mEmbedding\u001b[0m)         │ ?                      │   \u001b[38;5;34m0\u001b[0m (unbuilt) │\n",
       "├─────────────────────────────────┼────────────────────────┼───────────────┤\n",
       "│ lstm (\u001b[38;5;33mLSTM\u001b[0m)                     │ ?                      │   \u001b[38;5;34m0\u001b[0m (unbuilt) │\n",
       "├─────────────────────────────────┼────────────────────────┼───────────────┤\n",
       "│ dense_1 (\u001b[38;5;33mDense\u001b[0m)                 │ ?                      │   \u001b[38;5;34m0\u001b[0m (unbuilt) │\n",
       "└─────────────────────────────────┴────────────────────────┴───────────────┘\n"
      ]
     },
     "metadata": {},
     "output_type": "display_data"
    },
    {
     "data": {
      "text/html": [
       "<pre style=\"white-space:pre;overflow-x:auto;line-height:normal;font-family:Menlo,'DejaVu Sans Mono',consolas,'Courier New',monospace\"><span style=\"font-weight: bold\"> Total params: </span><span style=\"color: #00af00; text-decoration-color: #00af00\">0</span> (0.00 B)\n",
       "</pre>\n"
      ],
      "text/plain": [
       "\u001b[1m Total params: \u001b[0m\u001b[38;5;34m0\u001b[0m (0.00 B)\n"
      ]
     },
     "metadata": {},
     "output_type": "display_data"
    },
    {
     "data": {
      "text/html": [
       "<pre style=\"white-space:pre;overflow-x:auto;line-height:normal;font-family:Menlo,'DejaVu Sans Mono',consolas,'Courier New',monospace\"><span style=\"font-weight: bold\"> Trainable params: </span><span style=\"color: #00af00; text-decoration-color: #00af00\">0</span> (0.00 B)\n",
       "</pre>\n"
      ],
      "text/plain": [
       "\u001b[1m Trainable params: \u001b[0m\u001b[38;5;34m0\u001b[0m (0.00 B)\n"
      ]
     },
     "metadata": {},
     "output_type": "display_data"
    },
    {
     "data": {
      "text/html": [
       "<pre style=\"white-space:pre;overflow-x:auto;line-height:normal;font-family:Menlo,'DejaVu Sans Mono',consolas,'Courier New',monospace\"><span style=\"font-weight: bold\"> Non-trainable params: </span><span style=\"color: #00af00; text-decoration-color: #00af00\">0</span> (0.00 B)\n",
       "</pre>\n"
      ],
      "text/plain": [
       "\u001b[1m Non-trainable params: \u001b[0m\u001b[38;5;34m0\u001b[0m (0.00 B)\n"
      ]
     },
     "metadata": {},
     "output_type": "display_data"
    }
   ],
   "source": [
    "# Definir a arquitetura do modelo LSTM\n",
    "modelo_lstm = Sequential()\n",
    "\n",
    "# Camada de Embedding: Converte os índices numéricos das palavras em vetores densos.\n",
    "# total_palavras_vocab: tamanho do vocabulário\n",
    "# 50: dimensão do vetor de embedding (pode ser ajustado)\n",
    "# input_length: comprimento padronizado das sequências (max_len)\n",
    "modelo_lstm.add(Embedding(total_palavras_vocab, 50, input_length=max_len))\n",
    "\n",
    "# Camada LSTM:\n",
    "# 64: número de unidades (neurônios) na camada LSTM. Define o tamanho do estado oculto e da célula de memória.\n",
    "# dropou: Um tipo de regularização para evitar overfitting (descarta aleatoriamenteneurônios durante o treinamento).\n",
    "# recurrent_dropout: Dropout aplicado nas conexões recorrentes da LSTM.\n",
    "modelo_lstm.add(LSTM(64, dropout=0.2, recurrent_dropout=0.2))\n",
    "\n",
    "# Camada Densa de Saída:\n",
    "# 1: Um único neurônio de saída, pois é um problema de classificação binária (positivo/negativo).\n",
    "# activation='sigmoid': Função de ativação para classificação binária (produz um valor entre 0 e 1).\n",
    "modelo_lstm.add(Dense(1, activation='sigmoid'))\n",
    "\n",
    "# Compilar o modelo\n",
    "modelo_lstm.compile(optimizer='adam', loss='binary_crossentropy', metrics=['accuracy'])\n",
    "\n",
    "# Exibir um resumo da arquitetura do modelo\n",
    "modelo_lstm.summary()"
   ]
  },
  {
   "cell_type": "markdown",
   "metadata": {
    "id": "pPyNCONQrmc0"
   },
   "source": [
    "### Paso 4: Treinamento e Avaliação do Modelo"
   ]
  },
  {
   "cell_type": "code",
   "execution_count": 19,
   "metadata": {
    "colab": {
     "base_uri": "https://localhost:8080/"
    },
    "executionInfo": {
     "elapsed": 15747,
     "status": "ok",
     "timestamp": 1749860878820,
     "user": {
      "displayName": "Victor Myke Gracioli Rocha",
      "userId": "18280186660482340267"
     },
     "user_tz": 180
    },
    "id": "_cM6m0DGrzfT",
    "outputId": "abaeffb3-f2bc-4742-baa0-e57c0b75cf3e"
   },
   "outputs": [
    {
     "name": "stdout",
     "output_type": "stream",
     "text": [
      "\n",
      "Iniciando o treinamento do modelo LSTM...\n",
      "Epoch 1/50\n",
      "\u001b[1m1/1\u001b[0m \u001b[32m━━━━━━━━━━━━━━━━━━━━\u001b[0m\u001b[37m\u001b[0m \u001b[1m3s\u001b[0m 3s/step - accuracy: 0.5000 - loss: 0.6926 - val_accuracy: 0.5000 - val_loss: 0.6927\n",
      "Epoch 2/50\n",
      "\u001b[1m1/1\u001b[0m \u001b[32m━━━━━━━━━━━━━━━━━━━━\u001b[0m\u001b[37m\u001b[0m \u001b[1m0s\u001b[0m 86ms/step - accuracy: 0.7000 - loss: 0.6915 - val_accuracy: 0.5000 - val_loss: 0.6928\n",
      "Epoch 3/50\n",
      "\u001b[1m1/1\u001b[0m \u001b[32m━━━━━━━━━━━━━━━━━━━━\u001b[0m\u001b[37m\u001b[0m \u001b[1m0s\u001b[0m 85ms/step - accuracy: 0.7000 - loss: 0.6914 - val_accuracy: 0.5000 - val_loss: 0.6931\n",
      "Epoch 4/50\n",
      "\u001b[1m1/1\u001b[0m \u001b[32m━━━━━━━━━━━━━━━━━━━━\u001b[0m\u001b[37m\u001b[0m \u001b[1m0s\u001b[0m 85ms/step - accuracy: 0.9000 - loss: 0.6893 - val_accuracy: 0.0000e+00 - val_loss: 0.6935\n",
      "Epoch 5/50\n",
      "\u001b[1m1/1\u001b[0m \u001b[32m━━━━━━━━━━━━━━━━━━━━\u001b[0m\u001b[37m\u001b[0m \u001b[1m0s\u001b[0m 90ms/step - accuracy: 0.9000 - loss: 0.6875 - val_accuracy: 0.0000e+00 - val_loss: 0.6939\n",
      "Epoch 6/50\n",
      "\u001b[1m1/1\u001b[0m \u001b[32m━━━━━━━━━━━━━━━━━━━━\u001b[0m\u001b[37m\u001b[0m \u001b[1m0s\u001b[0m 87ms/step - accuracy: 0.8000 - loss: 0.6897 - val_accuracy: 0.0000e+00 - val_loss: 0.6942\n",
      "Epoch 7/50\n",
      "\u001b[1m1/1\u001b[0m \u001b[32m━━━━━━━━━━━━━━━━━━━━\u001b[0m\u001b[37m\u001b[0m \u001b[1m0s\u001b[0m 83ms/step - accuracy: 0.9000 - loss: 0.6821 - val_accuracy: 0.0000e+00 - val_loss: 0.6945\n",
      "Epoch 8/50\n",
      "\u001b[1m1/1\u001b[0m \u001b[32m━━━━━━━━━━━━━━━━━━━━\u001b[0m\u001b[37m\u001b[0m \u001b[1m0s\u001b[0m 87ms/step - accuracy: 0.9000 - loss: 0.6821 - val_accuracy: 0.0000e+00 - val_loss: 0.6949\n",
      "Epoch 9/50\n",
      "\u001b[1m1/1\u001b[0m \u001b[32m━━━━━━━━━━━━━━━━━━━━\u001b[0m\u001b[37m\u001b[0m \u001b[1m0s\u001b[0m 87ms/step - accuracy: 0.8000 - loss: 0.6805 - val_accuracy: 0.0000e+00 - val_loss: 0.6953\n",
      "Epoch 10/50\n",
      "\u001b[1m1/1\u001b[0m \u001b[32m━━━━━━━━━━━━━━━━━━━━\u001b[0m\u001b[37m\u001b[0m \u001b[1m0s\u001b[0m 107ms/step - accuracy: 0.9000 - loss: 0.6757 - val_accuracy: 0.0000e+00 - val_loss: 0.6958\n",
      "Epoch 11/50\n",
      "\u001b[1m1/1\u001b[0m \u001b[32m━━━━━━━━━━━━━━━━━━━━\u001b[0m\u001b[37m\u001b[0m \u001b[1m0s\u001b[0m 85ms/step - accuracy: 1.0000 - loss: 0.6741 - val_accuracy: 0.0000e+00 - val_loss: 0.6964\n",
      "Epoch 12/50\n",
      "\u001b[1m1/1\u001b[0m \u001b[32m━━━━━━━━━━━━━━━━━━━━\u001b[0m\u001b[37m\u001b[0m \u001b[1m0s\u001b[0m 87ms/step - accuracy: 1.0000 - loss: 0.6690 - val_accuracy: 0.0000e+00 - val_loss: 0.6970\n",
      "Epoch 13/50\n",
      "\u001b[1m1/1\u001b[0m \u001b[32m━━━━━━━━━━━━━━━━━━━━\u001b[0m\u001b[37m\u001b[0m \u001b[1m0s\u001b[0m 88ms/step - accuracy: 0.9000 - loss: 0.6634 - val_accuracy: 0.0000e+00 - val_loss: 0.6977\n",
      "Epoch 14/50\n",
      "\u001b[1m1/1\u001b[0m \u001b[32m━━━━━━━━━━━━━━━━━━━━\u001b[0m\u001b[37m\u001b[0m \u001b[1m0s\u001b[0m 89ms/step - accuracy: 1.0000 - loss: 0.6608 - val_accuracy: 0.0000e+00 - val_loss: 0.6986\n",
      "Epoch 15/50\n",
      "\u001b[1m1/1\u001b[0m \u001b[32m━━━━━━━━━━━━━━━━━━━━\u001b[0m\u001b[37m\u001b[0m \u001b[1m0s\u001b[0m 94ms/step - accuracy: 1.0000 - loss: 0.6555 - val_accuracy: 0.0000e+00 - val_loss: 0.6997\n",
      "Epoch 16/50\n",
      "\u001b[1m1/1\u001b[0m \u001b[32m━━━━━━━━━━━━━━━━━━━━\u001b[0m\u001b[37m\u001b[0m \u001b[1m0s\u001b[0m 112ms/step - accuracy: 1.0000 - loss: 0.6452 - val_accuracy: 0.0000e+00 - val_loss: 0.7011\n",
      "Epoch 17/50\n",
      "\u001b[1m1/1\u001b[0m \u001b[32m━━━━━━━━━━━━━━━━━━━━\u001b[0m\u001b[37m\u001b[0m \u001b[1m0s\u001b[0m 86ms/step - accuracy: 1.0000 - loss: 0.6394 - val_accuracy: 0.0000e+00 - val_loss: 0.7029\n",
      "Epoch 18/50\n",
      "\u001b[1m1/1\u001b[0m \u001b[32m━━━━━━━━━━━━━━━━━━━━\u001b[0m\u001b[37m\u001b[0m \u001b[1m0s\u001b[0m 86ms/step - accuracy: 1.0000 - loss: 0.6241 - val_accuracy: 0.0000e+00 - val_loss: 0.7050\n",
      "Epoch 19/50\n",
      "\u001b[1m1/1\u001b[0m \u001b[32m━━━━━━━━━━━━━━━━━━━━\u001b[0m\u001b[37m\u001b[0m \u001b[1m0s\u001b[0m 82ms/step - accuracy: 1.0000 - loss: 0.6190 - val_accuracy: 0.0000e+00 - val_loss: 0.7076\n",
      "Epoch 20/50\n",
      "\u001b[1m1/1\u001b[0m \u001b[32m━━━━━━━━━━━━━━━━━━━━\u001b[0m\u001b[37m\u001b[0m \u001b[1m0s\u001b[0m 78ms/step - accuracy: 1.0000 - loss: 0.6048 - val_accuracy: 0.0000e+00 - val_loss: 0.7108\n",
      "Epoch 21/50\n",
      "\u001b[1m1/1\u001b[0m \u001b[32m━━━━━━━━━━━━━━━━━━━━\u001b[0m\u001b[37m\u001b[0m \u001b[1m0s\u001b[0m 84ms/step - accuracy: 1.0000 - loss: 0.5919 - val_accuracy: 0.0000e+00 - val_loss: 0.7147\n",
      "Epoch 22/50\n",
      "\u001b[1m1/1\u001b[0m \u001b[32m━━━━━━━━━━━━━━━━━━━━\u001b[0m\u001b[37m\u001b[0m \u001b[1m0s\u001b[0m 83ms/step - accuracy: 1.0000 - loss: 0.5752 - val_accuracy: 0.0000e+00 - val_loss: 0.7194\n",
      "Epoch 23/50\n",
      "\u001b[1m1/1\u001b[0m \u001b[32m━━━━━━━━━━━━━━━━━━━━\u001b[0m\u001b[37m\u001b[0m \u001b[1m0s\u001b[0m 84ms/step - accuracy: 1.0000 - loss: 0.5643 - val_accuracy: 0.0000e+00 - val_loss: 0.7251\n",
      "Epoch 24/50\n",
      "\u001b[1m1/1\u001b[0m \u001b[32m━━━━━━━━━━━━━━━━━━━━\u001b[0m\u001b[37m\u001b[0m \u001b[1m0s\u001b[0m 82ms/step - accuracy: 1.0000 - loss: 0.5386 - val_accuracy: 0.0000e+00 - val_loss: 0.7321\n",
      "Epoch 25/50\n",
      "\u001b[1m1/1\u001b[0m \u001b[32m━━━━━━━━━━━━━━━━━━━━\u001b[0m\u001b[37m\u001b[0m \u001b[1m0s\u001b[0m 76ms/step - accuracy: 1.0000 - loss: 0.5109 - val_accuracy: 0.0000e+00 - val_loss: 0.7406\n",
      "Epoch 26/50\n",
      "\u001b[1m1/1\u001b[0m \u001b[32m━━━━━━━━━━━━━━━━━━━━\u001b[0m\u001b[37m\u001b[0m \u001b[1m0s\u001b[0m 82ms/step - accuracy: 1.0000 - loss: 0.4974 - val_accuracy: 0.0000e+00 - val_loss: 0.7509\n",
      "Epoch 27/50\n",
      "\u001b[1m1/1\u001b[0m \u001b[32m━━━━━━━━━━━━━━━━━━━━\u001b[0m\u001b[37m\u001b[0m \u001b[1m0s\u001b[0m 83ms/step - accuracy: 1.0000 - loss: 0.4664 - val_accuracy: 0.0000e+00 - val_loss: 0.7636\n",
      "Epoch 28/50\n",
      "\u001b[1m1/1\u001b[0m \u001b[32m━━━━━━━━━━━━━━━━━━━━\u001b[0m\u001b[37m\u001b[0m \u001b[1m0s\u001b[0m 82ms/step - accuracy: 1.0000 - loss: 0.4089 - val_accuracy: 0.0000e+00 - val_loss: 0.7791\n",
      "Epoch 29/50\n",
      "\u001b[1m1/1\u001b[0m \u001b[32m━━━━━━━━━━━━━━━━━━━━\u001b[0m\u001b[37m\u001b[0m \u001b[1m0s\u001b[0m 121ms/step - accuracy: 1.0000 - loss: 0.4083 - val_accuracy: 0.0000e+00 - val_loss: 0.7980\n",
      "Epoch 30/50\n",
      "\u001b[1m1/1\u001b[0m \u001b[32m━━━━━━━━━━━━━━━━━━━━\u001b[0m\u001b[37m\u001b[0m \u001b[1m0s\u001b[0m 91ms/step - accuracy: 1.0000 - loss: 0.3812 - val_accuracy: 0.0000e+00 - val_loss: 0.8211\n",
      "Epoch 31/50\n",
      "\u001b[1m1/1\u001b[0m \u001b[32m━━━━━━━━━━━━━━━━━━━━\u001b[0m\u001b[37m\u001b[0m \u001b[1m0s\u001b[0m 79ms/step - accuracy: 1.0000 - loss: 0.3366 - val_accuracy: 0.0000e+00 - val_loss: 0.8493\n",
      "Epoch 32/50\n",
      "\u001b[1m1/1\u001b[0m \u001b[32m━━━━━━━━━━━━━━━━━━━━\u001b[0m\u001b[37m\u001b[0m \u001b[1m0s\u001b[0m 79ms/step - accuracy: 1.0000 - loss: 0.2786 - val_accuracy: 0.0000e+00 - val_loss: 0.8838\n",
      "Epoch 33/50\n",
      "\u001b[1m1/1\u001b[0m \u001b[32m━━━━━━━━━━━━━━━━━━━━\u001b[0m\u001b[37m\u001b[0m \u001b[1m0s\u001b[0m 83ms/step - accuracy: 1.0000 - loss: 0.2441 - val_accuracy: 0.0000e+00 - val_loss: 0.9257\n",
      "Epoch 34/50\n",
      "\u001b[1m1/1\u001b[0m \u001b[32m━━━━━━━━━━━━━━━━━━━━\u001b[0m\u001b[37m\u001b[0m \u001b[1m0s\u001b[0m 84ms/step - accuracy: 1.0000 - loss: 0.2157 - val_accuracy: 0.0000e+00 - val_loss: 0.9768\n",
      "Epoch 35/50\n",
      "\u001b[1m1/1\u001b[0m \u001b[32m━━━━━━━━━━━━━━━━━━━━\u001b[0m\u001b[37m\u001b[0m \u001b[1m0s\u001b[0m 81ms/step - accuracy: 1.0000 - loss: 0.1787 - val_accuracy: 0.0000e+00 - val_loss: 1.0386\n",
      "Epoch 36/50\n",
      "\u001b[1m1/1\u001b[0m \u001b[32m━━━━━━━━━━━━━━━━━━━━\u001b[0m\u001b[37m\u001b[0m \u001b[1m0s\u001b[0m 73ms/step - accuracy: 1.0000 - loss: 0.1455 - val_accuracy: 0.0000e+00 - val_loss: 1.1127\n",
      "Epoch 37/50\n",
      "\u001b[1m1/1\u001b[0m \u001b[32m━━━━━━━━━━━━━━━━━━━━\u001b[0m\u001b[37m\u001b[0m \u001b[1m0s\u001b[0m 84ms/step - accuracy: 1.0000 - loss: 0.1180 - val_accuracy: 0.0000e+00 - val_loss: 1.2007\n",
      "Epoch 38/50\n",
      "\u001b[1m1/1\u001b[0m \u001b[32m━━━━━━━━━━━━━━━━━━━━\u001b[0m\u001b[37m\u001b[0m \u001b[1m0s\u001b[0m 84ms/step - accuracy: 1.0000 - loss: 0.1094 - val_accuracy: 0.0000e+00 - val_loss: 1.3046\n",
      "Epoch 39/50\n",
      "\u001b[1m1/1\u001b[0m \u001b[32m━━━━━━━━━━━━━━━━━━━━\u001b[0m\u001b[37m\u001b[0m \u001b[1m0s\u001b[0m 80ms/step - accuracy: 1.0000 - loss: 0.0705 - val_accuracy: 0.0000e+00 - val_loss: 1.4236\n",
      "Epoch 40/50\n",
      "\u001b[1m1/1\u001b[0m \u001b[32m━━━━━━━━━━━━━━━━━━━━\u001b[0m\u001b[37m\u001b[0m \u001b[1m0s\u001b[0m 85ms/step - accuracy: 1.0000 - loss: 0.0694 - val_accuracy: 0.0000e+00 - val_loss: 1.5586\n",
      "Epoch 41/50\n",
      "\u001b[1m1/1\u001b[0m \u001b[32m━━━━━━━━━━━━━━━━━━━━\u001b[0m\u001b[37m\u001b[0m \u001b[1m0s\u001b[0m 89ms/step - accuracy: 1.0000 - loss: 0.0482 - val_accuracy: 0.0000e+00 - val_loss: 1.7077\n",
      "Epoch 42/50\n",
      "\u001b[1m1/1\u001b[0m \u001b[32m━━━━━━━━━━━━━━━━━━━━\u001b[0m\u001b[37m\u001b[0m \u001b[1m0s\u001b[0m 83ms/step - accuracy: 1.0000 - loss: 0.0363 - val_accuracy: 0.0000e+00 - val_loss: 1.8682\n",
      "Epoch 43/50\n",
      "\u001b[1m1/1\u001b[0m \u001b[32m━━━━━━━━━━━━━━━━━━━━\u001b[0m\u001b[37m\u001b[0m \u001b[1m0s\u001b[0m 81ms/step - accuracy: 1.0000 - loss: 0.0301 - val_accuracy: 0.0000e+00 - val_loss: 2.0368\n",
      "Epoch 44/50\n",
      "\u001b[1m1/1\u001b[0m \u001b[32m━━━━━━━━━━━━━━━━━━━━\u001b[0m\u001b[37m\u001b[0m \u001b[1m0s\u001b[0m 82ms/step - accuracy: 1.0000 - loss: 0.0208 - val_accuracy: 0.0000e+00 - val_loss: 2.2091\n",
      "Epoch 45/50\n",
      "\u001b[1m1/1\u001b[0m \u001b[32m━━━━━━━━━━━━━━━━━━━━\u001b[0m\u001b[37m\u001b[0m \u001b[1m0s\u001b[0m 86ms/step - accuracy: 1.0000 - loss: 0.0197 - val_accuracy: 0.0000e+00 - val_loss: 2.3827\n",
      "Epoch 46/50\n",
      "\u001b[1m1/1\u001b[0m \u001b[32m━━━━━━━━━━━━━━━━━━━━\u001b[0m\u001b[37m\u001b[0m \u001b[1m0s\u001b[0m 83ms/step - accuracy: 1.0000 - loss: 0.0162 - val_accuracy: 0.0000e+00 - val_loss: 2.5548\n",
      "Epoch 47/50\n",
      "\u001b[1m1/1\u001b[0m \u001b[32m━━━━━━━━━━━━━━━━━━━━\u001b[0m\u001b[37m\u001b[0m \u001b[1m0s\u001b[0m 85ms/step - accuracy: 1.0000 - loss: 0.0131 - val_accuracy: 0.0000e+00 - val_loss: 2.7226\n",
      "Epoch 48/50\n",
      "\u001b[1m1/1\u001b[0m \u001b[32m━━━━━━━━━━━━━━━━━━━━\u001b[0m\u001b[37m\u001b[0m \u001b[1m0s\u001b[0m 85ms/step - accuracy: 1.0000 - loss: 0.0112 - val_accuracy: 0.0000e+00 - val_loss: 2.8837\n",
      "Epoch 49/50\n",
      "\u001b[1m1/1\u001b[0m \u001b[32m━━━━━━━━━━━━━━━━━━━━\u001b[0m\u001b[37m\u001b[0m \u001b[1m0s\u001b[0m 84ms/step - accuracy: 1.0000 - loss: 0.0092 - val_accuracy: 0.0000e+00 - val_loss: 3.0372\n",
      "Epoch 50/50\n",
      "\u001b[1m1/1\u001b[0m \u001b[32m━━━━━━━━━━━━━━━━━━━━\u001b[0m\u001b[37m\u001b[0m \u001b[1m0s\u001b[0m 81ms/step - accuracy: 1.0000 - loss: 0.0086 - val_accuracy: 0.0000e+00 - val_loss: 3.1823\n",
      "Treinamento concluído!\n"
     ]
    }
   ],
   "source": [
    "# Treinar o modelo\n",
    "print(\"\\nIniciando o treinamento do modelo LSTM...\")\n",
    "historico = modelo_lstm.fit(\n",
    "    x_treino, y_treino,\n",
    "    epochs=50, # Reduzi para 50 epochs para um treinamento mais rápido no  exemplo. Pode ser aumentado.\n",
    "    batch_size=32, # Pequeno batch_size para dataset pequeno.\n",
    "    validation_split=0.1, # Usar 10% do treino para validação\n",
    "    verbose=1\n",
    ")\n",
    "    # epochs: número de vezes que o modelo verá todo o conjunto de dados de treinamento.\n",
    "    # batch_size: número de amostras por atualização de gradiente\n",
    "    # validation_split: % dos dados de treino usados para validação durante o treinamento (opcional, mas bom para monitorar overfitting).\n",
    "print(\"Treinamento concluído!\")"
   ]
  },
  {
   "cell_type": "code",
   "execution_count": 20,
   "metadata": {
    "colab": {
     "base_uri": "https://localhost:8080/",
     "height": 767
    },
    "executionInfo": {
     "elapsed": 1238,
     "status": "ok",
     "timestamp": 1749860896886,
     "user": {
      "displayName": "Victor Myke Gracioli Rocha",
      "userId": "18280186660482340267"
     },
     "user_tz": 180
    },
    "id": "pfAnL803uVt8",
    "outputId": "23ea9c95-c6e8-4890-9e50-51785f0c7e5b"
   },
   "outputs": [
    {
     "name": "stdout",
     "output_type": "stream",
     "text": [
      "\n",
      "Acurácia do modelo no conjunto de teste: 66.67%\n",
      "Perda do modelo no conjunto de teste: 0.5516\n",
      "\u001b[1m1/1\u001b[0m \u001b[32m━━━━━━━━━━━━━━━━━━━━\u001b[0m\u001b[37m\u001b[0m \u001b[1m0s\u001b[0m 267ms/step\n",
      "\n",
      "--- Relátório de Classificação ---\n",
      "              precision    recall  f1-score   support\n",
      "\n",
      "    negativo       0.50      1.00      0.67         1\n",
      "    positivo       1.00      0.50      0.67         2\n",
      "\n",
      "    accuracy                           0.67         3\n",
      "   macro avg       0.75      0.75      0.67         3\n",
      "weighted avg       0.83      0.67      0.67         3\n",
      "\n",
      "\n",
      "--- Matriz de Confusão ---\n"
     ]
    },
    {
     "data": {
      "image/png": "[encoded data removed]",
      "text/plain": [
       "<Figure size 640x480 with 2 Axes>"
      ]
     },
     "metadata": {},
     "output_type": "display_data"
    }
   ],
   "source": [
    "# Avalia o modelo no conjunto de teste\n",
    "perda, acuracia = modelo_lstm.evaluate(x_teste, y_teste, verbose=0)\n",
    "print(f\"\\nAcurácia do modelo no conjunto de teste: {acuracia*100:.2f}%\")\n",
    "print(f\"Perda do modelo no conjunto de teste: {perda:.4f}\")\n",
    "\n",
    "# Fazer previsões no conjunto de teste\n",
    "y_pred_prob = modelo_lstm.predict(x_teste)\n",
    "y_pred_classes = (y_pred_prob > 0.5).astype(int) # Converter probabilidades para 0 ou 1\n",
    "\n",
    "print(\"\\n--- Relátório de Classificação ---\")\n",
    "print(classification_report(y_teste, y_pred_classes, target_names=['negativo','positivo']))\n",
    "\n",
    "print(\"\\n--- Matriz de Confusão ---\")\n",
    "cm = confusion_matrix(y_teste, y_pred_classes)\n",
    "sns.heatmap(cm, annot=True, fmt='d', cmap='Blues',xticklabels=['negativo','positivo'], yticklabels=['negativo','positivo'])\n",
    "plt.xlabel('Previsto')\n",
    "plt.ylabel('Real')\n",
    "plt.title('Matriz de Confusão')\n",
    "plt.show()"
   ]
  },
  {
   "cell_type": "markdown",
   "metadata": {
    "id": "iJMVgu4Ox4Vj"
   },
   "source": [
    "### Passo 5: Testar o Modelo com Novas Frases"
   ]
  },
  {
   "cell_type": "code",
   "execution_count": 21,
   "metadata": {
    "colab": {
     "base_uri": "https://localhost:8080/"
    },
    "executionInfo": {
     "elapsed": 793,
     "status": "ok",
     "timestamp": 1749861183492,
     "user": {
      "displayName": "Victor Myke Gracioli Rocha",
      "userId": "18280186660482340267"
     },
     "user_tz": 180
    },
    "id": "4g3xakFmx9yC",
    "outputId": "8c4fda7f-a402-4fb4-ff20-8612f9605668"
   },
   "outputs": [
    {
     "name": "stdout",
     "output_type": "stream",
     "text": [
      "\n",
      "--- Testando o Modelo LSTM com Novas Frases ---\n",
      "Frase: 'gostei muito de filme, excelente!' -> Sentimento previsto: 'positivo'\n",
      "Frase: 'odiei o livro, muito entediante' -> Sentimento previsto: 'positivo'\n",
      "Frase: 'a aula de pln é ótima' -> Sentimento previsto: 'positivo'\n",
      "Frase: 'o atendimento foi péssimo' -> Sentimento previsto: 'negativo'\n",
      "Frase: 'esse produto não vale a pena, é caro' -> Sentimento previsto: 'negativo'\n",
      "Frase: 'o filme é legal' -> Sentimento previsto: 'positivo'\n",
      "Frase: 'isso é horrível, que tristeza' -> Sentimento previsto: 'negativo'\n"
     ]
    }
   ],
   "source": [
    "from re import VERBOSE\n",
    "# utilizando o modelo treinado\n",
    "def prever_sentimento(modelo, tokenizer, max_seq_len, frase_nova, mapeamento_sentimento):\n",
    "  \"\"\"\n",
    "  Prevê o sentimento de uma nova frase.\n",
    "  \"\"\"\n",
    "  # Converter a frase para sequência numérica\n",
    "  sequencia_numerica = tokenizer.texts_to_sequences([frase_nova])\n",
    "\n",
    "  # Se a frase tem palavras desconhecidas, o tokenizer retorna uma lista vazia ou valores 0\n",
    "  if not sequencia_numerica:\n",
    "    print(f\"Aviso: A frase '{frase_nova}' contém apenas palavras desconhecidas.\")\n",
    "    return \"Desconhecido\" # Ou outra indicação\n",
    "\n",
    "  sequencia_numerica = sequencia_numerica [0] # Pega a primeira (e única) sequência\n",
    "\n",
    "  # Padronizar o comprimento da sequência de entrada\n",
    "  sequencia_padded = pad_sequences([sequencia_numerica], maxlen=max_seq_len, padding='post')\n",
    "\n",
    "  # Fazer a previsão (probabilidade)\n",
    "  probabilidade_positiva = modelo.predict(sequencia_padded, verbose=0)[0][0]\n",
    "\n",
    "  # Inverter o mapeamento para obter o nome do sentimento\n",
    "  mapeamento_inverso = {v: k for k, v in mapeamento_sentimento.items()}\n",
    "\n",
    "  # Classificar com base no limiar de 0.5\n",
    "  if probabilidade_positiva >= 0.5:\n",
    "    return mapeamento_inverso[1] # 'positivo'\n",
    "  else:\n",
    "    return mapeamento_inverso[0] # 'negativo'\n",
    "\n",
    "  return sentimento_previsto\n",
    "\n",
    "# Testar o modelo com novas frases\n",
    "print(\"\\n--- Testando o Modelo LSTM com Novas Frases ---\")\n",
    "\n",
    "frase_nova_1 = \"gostei muito de filme, excelente!\"\n",
    "sentimento_1 = prever_sentimento(modelo_lstm, tokenizer, max_len, frase_nova_1, mapeamento_sentimento)\n",
    "print(f\"Frase: '{frase_nova_1}' -> Sentimento previsto: '{sentimento_1}'\")\n",
    "\n",
    "frase_nova_2 = \"odiei o livro, muito entediante\"\n",
    "sentimento_2 = prever_sentimento(modelo_lstm, tokenizer, max_len, frase_nova_2, mapeamento_sentimento)\n",
    "print(f\"Frase: '{frase_nova_2}' -> Sentimento previsto: '{sentimento_2}'\")\n",
    "\n",
    "frase_nova_3 = \"a aula de pln é ótima\"\n",
    "sentimento_3 = prever_sentimento(modelo_lstm, tokenizer, max_len, frase_nova_3, mapeamento_sentimento)\n",
    "print(f\"Frase: '{frase_nova_3}' -> Sentimento previsto: '{sentimento_3}'\")\n",
    "\n",
    "frase_nova_4 = \"o atendimento foi péssimo\"\n",
    "sentimento_4 = prever_sentimento(modelo_lstm, tokenizer, max_len, frase_nova_4, mapeamento_sentimento)\n",
    "print(f\"Frase: '{frase_nova_4}' -> Sentimento previsto: '{sentimento_4}'\")\n",
    "\n",
    "frase_nova_5 = \"esse produto não vale a pena, é caro\"\n",
    "sentimento_5 = prever_sentimento(modelo_lstm, tokenizer, max_len, frase_nova_5, mapeamento_sentimento)\n",
    "print(f\"Frase: '{frase_nova_5}' -> Sentimento previsto: '{sentimento_5}'\")\n",
    "\n",
    "frase_nova_6 = \"o filme é legal\" # Frase curta e ambígua para um modelo pequeno\n",
    "sentimento_6 = prever_sentimento(modelo_lstm, tokenizer, max_len, frase_nova_6, mapeamento_sentimento)\n",
    "print(f\"Frase: '{frase_nova_6}' -> Sentimento previsto: '{sentimento_6}'\")\n",
    "\n",
    "frase_nova_7 = \"isso é horrível, que tristeza\"\n",
    "sentimento_7 = prever_sentimento(modelo_lstm, tokenizer, max_len, frase_nova_7, mapeamento_sentimento)\n",
    "print(f\"Frase: '{frase_nova_7}' -> Sentimento previsto: '{sentimento_7}'\")"
   ]
  }
 ],
 "metadata": {
  "colab": {
   "authorship_tag": "ABX9TyOgemUPBgrK2M2TrksjOR1h",
   "provenance": []
  },
  "kernelspec": {
   "display_name": "Python 3",
   "name": "python3"
  },
  "language_info": {
   "codemirror_mode": {
    "name": "ipython",
    "version": 3
   },
   "file_extension": ".py",
   "mimetype": "text/x-python",
   "name": "python",
   "nbconvert_exporter": "python",
   "pygments_lexer": "ipython3",
   "version": "3.12.6"
  }
 },
 "nbformat": 4,
 "nbformat_minor": 0
}
